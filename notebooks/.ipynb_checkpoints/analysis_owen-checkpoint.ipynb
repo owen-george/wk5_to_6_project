{
 "cells": [
  {
   "cell_type": "code",
   "execution_count": 3,
   "id": "abb23555-0a20-4f3b-a569-7551f0827443",
   "metadata": {},
   "outputs": [],
   "source": [
    "import pandas as pd\n",
    "import numpy as np\n",
    "import matplotlib.pyplot as plt\n",
    "import seaborn as sns\n",
    "import scipy.stats as st\n",
    "import numpy as np"
   ]
  },
  {
   "cell_type": "code",
   "execution_count": 4,
   "id": "773e431d-5268-434f-99cf-5f0013117df4",
   "metadata": {},
   "outputs": [],
   "source": [
    "client_data = \"../data/clean/clean_client_data.csv\"\n",
    "analysis_data = \"../data/clean/data_extra_col.csv\"\n"
   ]
  },
  {
   "cell_type": "code",
   "execution_count": 5,
   "id": "69027e2b-f05f-4028-9871-f8d0ffc3ab8f",
   "metadata": {},
   "outputs": [],
   "source": [
    "client_df = pd.read_csv(client_data)\n",
    "analysis_df = pd.read_csv(analysis_data)\n"
   ]
  },
  {
   "cell_type": "code",
   "execution_count": 6,
   "id": "0b66646d-d9bb-4235-9e94-652cb387b002",
   "metadata": {},
   "outputs": [
    {
     "data": {
      "text/html": [
       "<div>\n",
       "<style scoped>\n",
       "    .dataframe tbody tr th:only-of-type {\n",
       "        vertical-align: middle;\n",
       "    }\n",
       "\n",
       "    .dataframe tbody tr th {\n",
       "        vertical-align: top;\n",
       "    }\n",
       "\n",
       "    .dataframe thead tr th {\n",
       "        text-align: left;\n",
       "    }\n",
       "\n",
       "    .dataframe thead tr:last-of-type th {\n",
       "        text-align: right;\n",
       "    }\n",
       "</style>\n",
       "<table border=\"1\" class=\"dataframe\">\n",
       "  <thead>\n",
       "    <tr>\n",
       "      <th></th>\n",
       "      <th colspan=\"2\" halign=\"left\">step_duration</th>\n",
       "    </tr>\n",
       "    <tr>\n",
       "      <th>Variation</th>\n",
       "      <th>Control</th>\n",
       "      <th>Test</th>\n",
       "    </tr>\n",
       "    <tr>\n",
       "      <th>process_step</th>\n",
       "      <th></th>\n",
       "      <th></th>\n",
       "    </tr>\n",
       "  </thead>\n",
       "  <tbody>\n",
       "    <tr>\n",
       "      <th>start</th>\n",
       "      <td>21.07</td>\n",
       "      <td>11.72</td>\n",
       "    </tr>\n",
       "    <tr>\n",
       "      <th>step_1</th>\n",
       "      <td>25.02</td>\n",
       "      <td>28.58</td>\n",
       "    </tr>\n",
       "    <tr>\n",
       "      <th>step_2</th>\n",
       "      <td>72.49</td>\n",
       "      <td>70.71</td>\n",
       "    </tr>\n",
       "    <tr>\n",
       "      <th>step_3</th>\n",
       "      <td>86.53</td>\n",
       "      <td>73.40</td>\n",
       "    </tr>\n",
       "  </tbody>\n",
       "</table>\n",
       "</div>"
      ],
      "text/plain": [
       "             step_duration       \n",
       "Variation          Control   Test\n",
       "process_step                     \n",
       "start                21.07  11.72\n",
       "step_1               25.02  28.58\n",
       "step_2               72.49  70.71\n",
       "step_3               86.53  73.40"
      ]
     },
     "execution_count": 6,
     "metadata": {},
     "output_type": "execute_result"
    }
   ],
   "source": [
    "analysis_df[analysis_df['step_proceeds']==True].pivot_table(index='process_step',\n",
    "                                                            columns='Variation',\n",
    "                                                            values=['step_duration'],\n",
    "                                                            aggfunc='mean').round(2)"
   ]
  },
  {
   "cell_type": "code",
   "execution_count": 110,
   "id": "028c2200-58d8-4b3f-b919-b5361f4ba720",
   "metadata": {},
   "outputs": [
    {
     "data": {
      "text/html": [
       "<div>\n",
       "<style scoped>\n",
       "    .dataframe tbody tr th:only-of-type {\n",
       "        vertical-align: middle;\n",
       "    }\n",
       "\n",
       "    .dataframe tbody tr th {\n",
       "        vertical-align: top;\n",
       "    }\n",
       "\n",
       "    .dataframe thead tr th {\n",
       "        text-align: left;\n",
       "    }\n",
       "\n",
       "    .dataframe thead tr:last-of-type th {\n",
       "        text-align: right;\n",
       "    }\n",
       "</style>\n",
       "<table border=\"1\" class=\"dataframe\">\n",
       "  <thead>\n",
       "    <tr>\n",
       "      <th></th>\n",
       "      <th colspan=\"2\" halign=\"left\">step_proceeds</th>\n",
       "      <th>change_index</th>\n",
       "      <th>change_pct</th>\n",
       "    </tr>\n",
       "    <tr>\n",
       "      <th>Variation</th>\n",
       "      <th>Control</th>\n",
       "      <th>Test</th>\n",
       "      <th></th>\n",
       "      <th></th>\n",
       "    </tr>\n",
       "    <tr>\n",
       "      <th>process_step</th>\n",
       "      <th></th>\n",
       "      <th></th>\n",
       "      <th></th>\n",
       "      <th></th>\n",
       "    </tr>\n",
       "  </thead>\n",
       "  <tbody>\n",
       "    <tr>\n",
       "      <th>confirm</th>\n",
       "      <td>0.00</td>\n",
       "      <td>0.00</td>\n",
       "      <td>NaN</td>\n",
       "      <td>NaN</td>\n",
       "    </tr>\n",
       "    <tr>\n",
       "      <th>start</th>\n",
       "      <td>64.05</td>\n",
       "      <td>66.12</td>\n",
       "      <td>1.0323</td>\n",
       "      <td>3.23</td>\n",
       "    </tr>\n",
       "    <tr>\n",
       "      <th>step_1</th>\n",
       "      <td>77.28</td>\n",
       "      <td>76.32</td>\n",
       "      <td>0.9876</td>\n",
       "      <td>-1.24</td>\n",
       "    </tr>\n",
       "    <tr>\n",
       "      <th>step_2</th>\n",
       "      <td>82.75</td>\n",
       "      <td>80.19</td>\n",
       "      <td>0.9691</td>\n",
       "      <td>-3.09</td>\n",
       "    </tr>\n",
       "    <tr>\n",
       "      <th>step_3</th>\n",
       "      <td>70.41</td>\n",
       "      <td>75.00</td>\n",
       "      <td>1.0652</td>\n",
       "      <td>6.52</td>\n",
       "    </tr>\n",
       "  </tbody>\n",
       "</table>\n",
       "</div>"
      ],
      "text/plain": [
       "             step_proceeds        change_index change_pct\n",
       "Variation          Control   Test                        \n",
       "process_step                                             \n",
       "confirm               0.00   0.00          NaN        NaN\n",
       "start                64.05  66.12       1.0323       3.23\n",
       "step_1               77.28  76.32       0.9876      -1.24\n",
       "step_2               82.75  80.19       0.9691      -3.09\n",
       "step_3               70.41  75.00       1.0652       6.52"
      ]
     },
     "metadata": {},
     "output_type": "display_data"
    },
    {
     "name": "stdout",
     "output_type": "stream",
     "text": [
      "Overall step success rate improvement: 5.24%\n"
     ]
    }
   ],
   "source": [
    "step_rate_pivot = analysis_df.pivot_table(index='process_step',\n",
    "                                         columns='Variation',\n",
    "                                         values=['step_proceeds'],\n",
    "                                         aggfunc='mean').round(4)\n",
    "\n",
    "\n",
    "step_rate_pivot[('step_proceeds', 'Test')] = 100 * step_rate_pivot[('step_proceeds', 'Test')]\n",
    "step_rate_pivot[('step_proceeds', 'Control')] = 100 * step_rate_pivot[('step_proceeds', 'Control')]\n",
    "step_rate_pivot['change_index'] = (((step_rate_pivot[('step_proceeds', 'Test')] / (step_rate_pivot[(('step_proceeds', 'Control'))])))).round(4)\n",
    "step_rate_pivot['change_pct'] = (100*(step_rate_pivot['change_index']-1)).round(2)\n",
    "\n",
    "display(step_rate_pivot)\n",
    "\n",
    "print(f\"Overall step success rate improvement: {(100*(step_rate_pivot['change_index'].product()-1)).round(2)}%\")\n",
    "\n"
   ]
  },
  {
   "cell_type": "code",
   "execution_count": 112,
   "id": "57f5052d-b6fc-47ee-ab9c-ad6efcbdd2d3",
   "metadata": {},
   "outputs": [
    {
     "data": {
      "text/plain": [
       "Index(['client_id', 'visitor_id', 'visit_id', 'process_step', 'date_time',\n",
       "       'Variation', 'visit_final_step', 'step_duration', 'step_proceeds',\n",
       "       'step_error', 'successful_visit'],\n",
       "      dtype='object')"
      ]
     },
     "execution_count": 112,
     "metadata": {},
     "output_type": "execute_result"
    }
   ],
   "source": [
    "analysis_df.columns"
   ]
  },
  {
   "cell_type": "code",
   "execution_count": 114,
   "id": "414aae85-bea5-4dbb-a934-02dd86787b91",
   "metadata": {},
   "outputs": [
    {
     "data": {
      "text/html": [
       "<div>\n",
       "<style scoped>\n",
       "    .dataframe tbody tr th:only-of-type {\n",
       "        vertical-align: middle;\n",
       "    }\n",
       "\n",
       "    .dataframe tbody tr th {\n",
       "        vertical-align: top;\n",
       "    }\n",
       "\n",
       "    .dataframe thead tr th {\n",
       "        text-align: left;\n",
       "    }\n",
       "\n",
       "    .dataframe thead tr:last-of-type th {\n",
       "        text-align: right;\n",
       "    }\n",
       "</style>\n",
       "<table border=\"1\" class=\"dataframe\">\n",
       "  <thead>\n",
       "    <tr>\n",
       "      <th></th>\n",
       "      <th colspan=\"2\" halign=\"left\">mean</th>\n",
       "      <th colspan=\"2\" halign=\"left\">count</th>\n",
       "    </tr>\n",
       "    <tr>\n",
       "      <th>Variation</th>\n",
       "      <th>Control</th>\n",
       "      <th>Test</th>\n",
       "      <th>Control</th>\n",
       "      <th>Test</th>\n",
       "    </tr>\n",
       "    <tr>\n",
       "      <th>process_step</th>\n",
       "      <th></th>\n",
       "      <th></th>\n",
       "      <th></th>\n",
       "      <th></th>\n",
       "    </tr>\n",
       "  </thead>\n",
       "  <tbody>\n",
       "    <tr>\n",
       "      <th>confirm</th>\n",
       "      <td>0.9678</td>\n",
       "      <td>0.9890</td>\n",
       "      <td>11779</td>\n",
       "      <td>15512</td>\n",
       "    </tr>\n",
       "    <tr>\n",
       "      <th>start</th>\n",
       "      <td>0.3576</td>\n",
       "      <td>0.3339</td>\n",
       "      <td>24677</td>\n",
       "      <td>23881</td>\n",
       "    </tr>\n",
       "    <tr>\n",
       "      <th>step_1</th>\n",
       "      <td>0.1417</td>\n",
       "      <td>0.1003</td>\n",
       "      <td>20206</td>\n",
       "      <td>22823</td>\n",
       "    </tr>\n",
       "    <tr>\n",
       "      <th>step_2</th>\n",
       "      <td>0.0682</td>\n",
       "      <td>0.0522</td>\n",
       "      <td>17897</td>\n",
       "      <td>19121</td>\n",
       "    </tr>\n",
       "    <tr>\n",
       "      <th>step_3</th>\n",
       "      <td>0.1046</td>\n",
       "      <td>0.0779</td>\n",
       "      <td>15619</td>\n",
       "      <td>16170</td>\n",
       "    </tr>\n",
       "  </tbody>\n",
       "</table>\n",
       "</div>"
      ],
      "text/plain": [
       "                mean           count       \n",
       "Variation    Control    Test Control   Test\n",
       "process_step                               \n",
       "confirm       0.9678  0.9890   11779  15512\n",
       "start         0.3576  0.3339   24677  23881\n",
       "step_1        0.1417  0.1003   20206  22823\n",
       "step_2        0.0682  0.0522   17897  19121\n",
       "step_3        0.1046  0.0779   15619  16170"
      ]
     },
     "metadata": {},
     "output_type": "display_data"
    },
    {
     "name": "stdout",
     "output_type": "stream",
     "text": [
      "Control group visits 0.477327065688698\n",
      "Success rate improved by 36.1%\n"
     ]
    }
   ],
   "source": [
    "step_remain_pivot = analysis_df.pivot_table(index='process_step',\n",
    "                                            columns='Variation',\n",
    "                                            values=['visit_final_step'],\n",
    "                                            aggfunc=['mean', 'count']).round(4)\n",
    "\n",
    "\n",
    "step_remain_pivot.columns = step_remain_pivot.columns.droplevel(1)\n",
    "\n",
    "display(step_remain_pivot)\n",
    "\n",
    "control_confirm = step_remain_pivot[('count','Control')].loc['confirm']\n",
    "control_start = step_remain_pivot[('count','Control')].loc['start']\n",
    "test_confirm = step_remain_pivot[('count','Test')].loc['confirm']\n",
    "test_start = step_remain_pivot[('count','Test')].loc['start']\n",
    "\n",
    "control_success = control_confirm / control_start\n",
    "test_success = test_confirm / test_start\n",
    "\n",
    "success_improvement = (test_success/control_success-1).round(3)\n",
    "\n",
    "print(f\"Control group visits {100*control_success}%\")\n",
    "\n",
    "print(f\"Success rate improved by {100*success_improvement}%\")"
   ]
  },
  {
   "cell_type": "code",
   "execution_count": 116,
   "id": "87859218-cd94-40dd-bc38-c838dc67747e",
   "metadata": {},
   "outputs": [],
   "source": [
    "def successful_visit_durations(df=analysis_df):\n",
    "    experiment_df = df.copy()\n",
    "    success_df = experiment_df[experiment_df['successful_visit']==True]\n",
    "    duration_df = success_df[(success_df['process_step']=='start') | (success_df['process_step']=='confirm')]\n",
    "    duration_df = duration_df[['visit_id', 'Variation', 'process_step', 'date_time']]\n",
    "\n",
    "    duration_df_pivot = duration_df.pivot_table(index=['Variation', 'visit_id'],\n",
    "                                            columns='process_step',\n",
    "                                            values='date_time',\n",
    "                                            aggfunc='first')\n",
    "\n",
    "    duration_df_pivot['confirm'] = pd.to_datetime(duration_df_pivot['confirm'])\n",
    "    duration_df_pivot['start'] = pd.to_datetime(duration_df_pivot['start'])\n",
    "    duration_df_pivot['duration'] = (duration_df_pivot['confirm'] - duration_df_pivot['start']).dt.total_seconds()\n",
    "\n",
    "    success_durations = duration_df_pivot.reset_index()[['Variation', 'visit_id', 'duration']]\n",
    "\n",
    "    results = success_durations.pivot_table(index=['Variation'],\n",
    "                                            values='duration',\n",
    "                                            aggfunc='mean').round(2)\n",
    "\n",
    "    result_dict = results.to_dict()['duration']\n",
    "    \n",
    "    return(result_dict)"
   ]
  },
  {
   "cell_type": "code",
   "execution_count": 118,
   "id": "14f2a60b-2f5d-47b8-8ed9-170fa75f63cf",
   "metadata": {},
   "outputs": [],
   "source": [
    "def visit_df(df=analysis_df):\n",
    "\n",
    "    piv_df = df.pivot_table(\n",
    "        index=['visit_id', 'client_id', 'Variation','successful_visit'],\n",
    "        values=['step_duration', 'process_step'],\n",
    "        aggfunc={\n",
    "            'step_duration': 'sum',\n",
    "            'process_step': 'count',\n",
    "        }).round(2)\n",
    "    \n",
    "    results = piv_df.reset_index()\n",
    "    results = results.rename(columns={'process_step': 'step_count', 'step_duration': 'visit_duration'})\n",
    "\n",
    "    piv_df2 = analysis_df.pivot_table(\n",
    "        index='visit_id', \n",
    "        columns='process_step', \n",
    "        aggfunc='size', \n",
    "        fill_value=0)\n",
    "\n",
    "    merged_piv_df = pd.merge(results, piv_df2, on='visit_id', how='outer')\n",
    "    \n",
    "    return(merged_piv_df)"
   ]
  },
  {
   "cell_type": "code",
   "execution_count": 120,
   "id": "8c77d151-0fb8-4f4d-a334-f5fcbb981dcc",
   "metadata": {},
   "outputs": [],
   "source": [
    "visit_df = visit_df(analysis_df)\n",
    "\n",
    "visit_df.to_csv('../data/clean/visit_data.csv', index=False)"
   ]
  },
  {
   "cell_type": "code",
   "execution_count": 121,
   "id": "3b9b9b6f-43cf-4a1a-b18a-a70447358b1c",
   "metadata": {},
   "outputs": [
    {
     "data": {
      "text/html": [
       "<div>\n",
       "<style scoped>\n",
       "    .dataframe tbody tr th:only-of-type {\n",
       "        vertical-align: middle;\n",
       "    }\n",
       "\n",
       "    .dataframe tbody tr th {\n",
       "        vertical-align: top;\n",
       "    }\n",
       "\n",
       "    .dataframe thead th {\n",
       "        text-align: right;\n",
       "    }\n",
       "</style>\n",
       "<table border=\"1\" class=\"dataframe\">\n",
       "  <thead>\n",
       "    <tr style=\"text-align: right;\">\n",
       "      <th></th>\n",
       "      <th>confirmed_visits</th>\n",
       "      <th>full_success_visits</th>\n",
       "    </tr>\n",
       "    <tr>\n",
       "      <th>Variation</th>\n",
       "      <th></th>\n",
       "      <th></th>\n",
       "    </tr>\n",
       "  </thead>\n",
       "  <tbody>\n",
       "    <tr>\n",
       "      <th>Control</th>\n",
       "      <td>45.67</td>\n",
       "      <td>40.91</td>\n",
       "    </tr>\n",
       "    <tr>\n",
       "      <th>Test</th>\n",
       "      <td>55.95</td>\n",
       "      <td>42.10</td>\n",
       "    </tr>\n",
       "  </tbody>\n",
       "</table>\n",
       "</div>"
      ],
      "text/plain": [
       "           confirmed_visits  full_success_visits\n",
       "Variation                                       \n",
       "Control               45.67                40.91\n",
       "Test                  55.95                42.10"
      ]
     },
     "execution_count": 121,
     "metadata": {},
     "output_type": "execute_result"
    }
   ],
   "source": [
    "visit_piv = visit_df.pivot_table(\n",
    "                index='Variation',\n",
    "                values=['visit_id', 'confirm', 'successful_visit'],\n",
    "                aggfunc={\n",
    "                    'visit_id': 'count',\n",
    "                    'confirm': 'sum',\n",
    "                    'successful_visit': 'sum'\n",
    "                })\n",
    "\n",
    "visit_piv = visit_piv.rename(columns={'visit_id': 'visit_count', 'confirm': 'confirmed_visits', 'successful_visit': 'full_success_visits'})\n",
    "\n",
    "visit_piv['full_success_visits'] = (100* visit_piv['full_success_visits'] / visit_piv['visit_count']).round(2)\n",
    "visit_piv['confirmed_visits'] = (100* visit_piv['confirmed_visits'] / visit_piv['visit_count']).round(2)\n",
    "\n",
    "visit_piv = visit_piv[['confirmed_visits', 'full_success_visits']]\n",
    "\n",
    "visit_piv\n"
   ]
  },
  {
   "cell_type": "code",
   "execution_count": 124,
   "id": "ea035052-02f1-4aa9-9e87-9b5590def3bf",
   "metadata": {},
   "outputs": [
    {
     "data": {
      "text/plain": [
       "1.0290882424835004"
      ]
     },
     "execution_count": 124,
     "metadata": {},
     "output_type": "execute_result"
    }
   ],
   "source": [
    "visit_piv['full_success_visits']['Test']/visit_piv['full_success_visits']['Control']"
   ]
  },
  {
   "cell_type": "code",
   "execution_count": 126,
   "id": "2df7ce9b-d561-46a7-8ecb-53a68282fbc8",
   "metadata": {},
   "outputs": [
    {
     "data": {
      "text/plain": [
       "1.2250930589008102"
      ]
     },
     "execution_count": 126,
     "metadata": {},
     "output_type": "execute_result"
    }
   ],
   "source": [
    "visit_piv['confirmed_visits']['Test']/visit_piv['confirmed_visits']['Control']"
   ]
  },
  {
   "cell_type": "code",
   "execution_count": 173,
   "id": "5f521156-8595-402f-8f9d-b23b8708f586",
   "metadata": {},
   "outputs": [
    {
     "data": {
      "image/png": "[encoded data removed]",
      "text/plain": [
       "<Figure size 640x480 with 1 Axes>"
      ]
     },
     "metadata": {},
     "output_type": "display_data"
    }
   ],
   "source": [
    "sns.boxplot(data=visit_df[visit_df['successful_visit']==True], y='visit_duration', x='Variation', hue='Variation', palette=\"coolwarm\", legend=False);\n",
    "\n",
    "plt.savefig(\"../figures/boxplot.png\")"
   ]
  },
  {
   "cell_type": "code",
   "execution_count": 128,
   "id": "d25ded5e-727b-44ee-9e42-f0cbbd91f9c1",
   "metadata": {},
   "outputs": [],
   "source": [
    "def pivot_df(df=analysis_df):\n",
    "    df['other_issue'] = (df['step_proceeds']==False) & (df['step_error']==False) & (df['visit_final_step']==False)\n",
    "    \n",
    "    piv_df = df.pivot_table(index='process_step',\n",
    "                columns='Variation',\n",
    "                values=['step_duration', 'step_proceeds', 'visit_final_step', 'step_error', 'other_issue', 'visit_id'],\n",
    "                aggfunc={\n",
    "                    'step_duration': 'mean',\n",
    "                    'step_proceeds': 'mean',\n",
    "                    'visit_final_step': 'mean',\n",
    "                    'step_error': 'mean',\n",
    "                    'other_issue': 'mean',\n",
    "                    'visit_id' : 'nunique'\n",
    "                }).round(2)\n",
    "    \n",
    "    piv_df = piv_df[['step_duration', 'step_proceeds', 'visit_final_step', 'step_error', 'other_issue', 'visit_id' ]].sort_values(by=('visit_id', 'Test'), ascending=False)\n",
    "    \n",
    "    return(piv_df)"
   ]
  },
  {
   "cell_type": "code",
   "execution_count": 130,
   "id": "c85db28f-e042-4bf0-b322-1fe0c4f8ec77",
   "metadata": {},
   "outputs": [],
   "source": [
    "def visit_success_rate(df=analysis_df):\n",
    "\n",
    "    piv_df = df.pivot_table(\n",
    "        index='Variation',\n",
    "        columns = 'successful_visit',\n",
    "        values='visit_id',\n",
    "        aggfunc='nunique')\n",
    "\n",
    "    results = piv_df.reset_index()\n",
    "    results = results.rename(columns={'visit_id': 'visit_count'})\n",
    "    results['success_rate'] = round(100 * results[True] / (results[True] + results[False]),2)\n",
    "    results.set_index('Variation', inplace=True)\n",
    "   \n",
    "    result_dict = results.to_dict()['success_rate']\n",
    "\n",
    "    return(result_dict)"
   ]
  },
  {
   "cell_type": "code",
   "execution_count": 132,
   "id": "8e6a91cd-81bc-4aa1-a718-a77bc2ac57f0",
   "metadata": {},
   "outputs": [
    {
     "data": {
      "text/plain": [
       "{'Control': 219.97, 'Test': 190.42}"
      ]
     },
     "execution_count": 132,
     "metadata": {},
     "output_type": "execute_result"
    }
   ],
   "source": [
    "successful_visit_durations(analysis_df)"
   ]
  },
  {
   "cell_type": "code",
   "execution_count": 134,
   "id": "0b35ba0e-2ade-4649-95e6-c9686f53b33f",
   "metadata": {},
   "outputs": [
    {
     "data": {
      "text/plain": [
       "{'Control': 40.83, 'Test': 42.04}"
      ]
     },
     "execution_count": 134,
     "metadata": {},
     "output_type": "execute_result"
    }
   ],
   "source": [
    "visit_success_rate(analysis_df)"
   ]
  },
  {
   "cell_type": "code",
   "execution_count": 136,
   "id": "fc419337-d237-45e2-a281-f51f4ace6d0d",
   "metadata": {},
   "outputs": [
    {
     "name": "stdout",
     "output_type": "stream",
     "text": [
      "Visit success rate changed: 2.96%\n",
      "Visit average duration changed: -13.43%\n"
     ]
    }
   ],
   "source": [
    "duration_imp = round(100 * (successful_visit_durations(analysis_df)['Test'] / successful_visit_durations(analysis_df)['Control'] -1),2)\n",
    "success_imp = round(100 * (visit_success_rate(analysis_df)['Test'] / visit_success_rate(analysis_df)['Control'] -1),2)\n",
    "\n",
    "print(f\"Visit success rate changed: {success_imp}%\")\n",
    "print(f\"Visit average duration changed: {duration_imp}%\")"
   ]
  },
  {
   "cell_type": "code",
   "execution_count": 138,
   "id": "cf024cd0-9f66-4bd3-8631-5b32eea8996e",
   "metadata": {},
   "outputs": [
    {
     "data": {
      "image/png": "[encoded data removed]",
      "text/plain": [
       "<Figure size 640x480 with 1 Axes>"
      ]
     },
     "metadata": {},
     "output_type": "display_data"
    }
   ],
   "source": [
    "sns.violinplot(data=analysis_df[(analysis_df['Variation']=='Control') & (analysis_df['step_duration']<300)], y='step_duration', x='process_step', palette=\"coolwarm\", hue='process_step', legend=False);"
   ]
  },
  {
   "cell_type": "code",
   "execution_count": 139,
   "id": "3424cd41-9191-4bd9-91a4-21dbb54ed794",
   "metadata": {},
   "outputs": [
    {
     "data": {
      "image/png": "[encoded data removed]",
      "text/plain": [
       "<Figure size 640x480 with 1 Axes>"
      ]
     },
     "metadata": {},
     "output_type": "display_data"
    }
   ],
   "source": [
    "sns.violinplot(data=analysis_df[analysis_df['Variation']=='Test'], y='step_duration', x='process_step', palette=\"coolwarm\", hue='process_step', legend=False);"
   ]
  },
  {
   "cell_type": "code",
   "execution_count": 140,
   "id": "df756771-8f7d-445c-9c76-a249dc79d4bb",
   "metadata": {},
   "outputs": [
    {
     "data": {
      "text/html": [
       "<div>\n",
       "<style scoped>\n",
       "    .dataframe tbody tr th:only-of-type {\n",
       "        vertical-align: middle;\n",
       "    }\n",
       "\n",
       "    .dataframe tbody tr th {\n",
       "        vertical-align: top;\n",
       "    }\n",
       "\n",
       "    .dataframe thead tr th {\n",
       "        text-align: left;\n",
       "    }\n",
       "\n",
       "    .dataframe thead tr:last-of-type th {\n",
       "        text-align: right;\n",
       "    }\n",
       "</style>\n",
       "<table border=\"1\" class=\"dataframe\">\n",
       "  <thead>\n",
       "    <tr>\n",
       "      <th></th>\n",
       "      <th colspan=\"2\" halign=\"left\">step_duration</th>\n",
       "      <th colspan=\"2\" halign=\"left\">step_proceeds</th>\n",
       "      <th colspan=\"2\" halign=\"left\">visit_final_step</th>\n",
       "      <th colspan=\"2\" halign=\"left\">step_error</th>\n",
       "      <th colspan=\"2\" halign=\"left\">other_issue</th>\n",
       "      <th colspan=\"2\" halign=\"left\">visit_id</th>\n",
       "    </tr>\n",
       "    <tr>\n",
       "      <th>Variation</th>\n",
       "      <th>Control</th>\n",
       "      <th>Test</th>\n",
       "      <th>Control</th>\n",
       "      <th>Test</th>\n",
       "      <th>Control</th>\n",
       "      <th>Test</th>\n",
       "      <th>Control</th>\n",
       "      <th>Test</th>\n",
       "      <th>Control</th>\n",
       "      <th>Test</th>\n",
       "      <th>Control</th>\n",
       "      <th>Test</th>\n",
       "    </tr>\n",
       "    <tr>\n",
       "      <th>process_step</th>\n",
       "      <th></th>\n",
       "      <th></th>\n",
       "      <th></th>\n",
       "      <th></th>\n",
       "      <th></th>\n",
       "      <th></th>\n",
       "      <th></th>\n",
       "      <th></th>\n",
       "      <th></th>\n",
       "      <th></th>\n",
       "      <th></th>\n",
       "      <th></th>\n",
       "    </tr>\n",
       "  </thead>\n",
       "  <tbody>\n",
       "    <tr>\n",
       "      <th>start</th>\n",
       "      <td>21.07</td>\n",
       "      <td>11.75</td>\n",
       "      <td>0.64</td>\n",
       "      <td>0.66</td>\n",
       "      <td>0.36</td>\n",
       "      <td>0.33</td>\n",
       "      <td>0.00</td>\n",
       "      <td>0.00</td>\n",
       "      <td>0.00</td>\n",
       "      <td>0.00</td>\n",
       "      <td>24677</td>\n",
       "      <td>23881</td>\n",
       "    </tr>\n",
       "    <tr>\n",
       "      <th>step_1</th>\n",
       "      <td>25.68</td>\n",
       "      <td>31.63</td>\n",
       "      <td>0.77</td>\n",
       "      <td>0.76</td>\n",
       "      <td>0.14</td>\n",
       "      <td>0.10</td>\n",
       "      <td>0.05</td>\n",
       "      <td>0.09</td>\n",
       "      <td>0.04</td>\n",
       "      <td>0.04</td>\n",
       "      <td>17351</td>\n",
       "      <td>19012</td>\n",
       "    </tr>\n",
       "    <tr>\n",
       "      <th>step_2</th>\n",
       "      <td>70.59</td>\n",
       "      <td>66.72</td>\n",
       "      <td>0.83</td>\n",
       "      <td>0.80</td>\n",
       "      <td>0.07</td>\n",
       "      <td>0.05</td>\n",
       "      <td>0.05</td>\n",
       "      <td>0.08</td>\n",
       "      <td>0.06</td>\n",
       "      <td>0.06</td>\n",
       "      <td>14568</td>\n",
       "      <td>16261</td>\n",
       "    </tr>\n",
       "    <tr>\n",
       "      <th>confirm</th>\n",
       "      <td>104.79</td>\n",
       "      <td>101.92</td>\n",
       "      <td>0.00</td>\n",
       "      <td>0.00</td>\n",
       "      <td>0.97</td>\n",
       "      <td>0.99</td>\n",
       "      <td>0.00</td>\n",
       "      <td>0.00</td>\n",
       "      <td>0.03</td>\n",
       "      <td>0.01</td>\n",
       "      <td>11779</td>\n",
       "      <td>15512</td>\n",
       "    </tr>\n",
       "    <tr>\n",
       "      <th>step_3</th>\n",
       "      <td>81.35</td>\n",
       "      <td>76.63</td>\n",
       "      <td>0.70</td>\n",
       "      <td>0.75</td>\n",
       "      <td>0.10</td>\n",
       "      <td>0.08</td>\n",
       "      <td>0.10</td>\n",
       "      <td>0.07</td>\n",
       "      <td>0.09</td>\n",
       "      <td>0.10</td>\n",
       "      <td>13083</td>\n",
       "      <td>14619</td>\n",
       "    </tr>\n",
       "  </tbody>\n",
       "</table>\n",
       "</div>"
      ],
      "text/plain": [
       "             step_duration         step_proceeds       visit_final_step        \\\n",
       "Variation          Control    Test       Control  Test          Control  Test   \n",
       "process_step                                                                    \n",
       "start                21.07   11.75          0.64  0.66             0.36  0.33   \n",
       "step_1               25.68   31.63          0.77  0.76             0.14  0.10   \n",
       "step_2               70.59   66.72          0.83  0.80             0.07  0.05   \n",
       "confirm             104.79  101.92          0.00  0.00             0.97  0.99   \n",
       "step_3               81.35   76.63          0.70  0.75             0.10  0.08   \n",
       "\n",
       "             step_error       other_issue       visit_id         \n",
       "Variation       Control  Test     Control  Test  Control   Test  \n",
       "process_step                                                     \n",
       "start              0.00  0.00        0.00  0.00    24677  23881  \n",
       "step_1             0.05  0.09        0.04  0.04    17351  19012  \n",
       "step_2             0.05  0.08        0.06  0.06    14568  16261  \n",
       "confirm            0.00  0.00        0.03  0.01    11779  15512  \n",
       "step_3             0.10  0.07        0.09  0.10    13083  14619  "
      ]
     },
     "execution_count": 140,
     "metadata": {},
     "output_type": "execute_result"
    }
   ],
   "source": [
    "pivot_df()"
   ]
  },
  {
   "cell_type": "code",
   "execution_count": 141,
   "id": "26f475b9-f775-4684-8ee6-fcfc65ca73ff",
   "metadata": {},
   "outputs": [],
   "source": [
    "error_visit_ids = list(analysis_df[(analysis_df['step_error'] == True)]['visit_id'].unique())\n",
    "non_proceed_visit_ids = list(analysis_df[(analysis_df['step_proceeds'] == False) & (analysis_df['visit_final_step'] == False)]['visit_id'].unique())\n",
    "total_visit_ids = list(analysis_df['visit_id'].unique())"
   ]
  },
  {
   "cell_type": "code",
   "execution_count": 142,
   "id": "76343602-251a-4717-981f-b2fa0880b214",
   "metadata": {},
   "outputs": [
    {
     "data": {
      "text/plain": [
       "10.7"
      ]
     },
     "execution_count": 142,
     "metadata": {},
     "output_type": "execute_result"
    }
   ],
   "source": [
    "# What proportion of visits have an error (go back to the previous step)\n",
    "round(100 * len(error_visit_ids) / len(total_visit_ids),2)"
   ]
  },
  {
   "cell_type": "code",
   "execution_count": 143,
   "id": "2521eb3b-eeaf-4ba2-b489-511a6573ab53",
   "metadata": {},
   "outputs": [
    {
     "data": {
      "text/plain": [
       "18.37"
      ]
     },
     "execution_count": 143,
     "metadata": {},
     "output_type": "execute_result"
    }
   ],
   "source": [
    "# What proportion of visits had steps that didn't proceed as expected\n",
    "round(100 * len(non_proceed_visit_ids) / len(total_visit_ids),2)"
   ]
  },
  {
   "cell_type": "code",
   "execution_count": 144,
   "id": "9202dfbb-fb75-4da3-84c5-b8fa7c9a986b",
   "metadata": {},
   "outputs": [
    {
     "data": {
      "text/plain": [
       "step_proceeds       62.816954\n",
       "visit_final_step    28.667715\n",
       "step_error           4.355702\n",
       "dtype: float64"
      ]
     },
     "execution_count": 144,
     "metadata": {},
     "output_type": "execute_result"
    }
   ],
   "source": [
    "#What share of steps proceed / end the process / result in going back a step\n",
    "step_proceeds_df = analysis_df[analysis_df['step_proceeds'] == True]\n",
    "step_proceeds = analysis_df[['step_proceeds','visit_final_step', 'step_error']].mean() * 100\n",
    "step_proceeds"
   ]
  },
  {
   "cell_type": "code",
   "execution_count": 145,
   "id": "09a6aa6d-61b4-4dfa-87c4-8ceb334d569b",
   "metadata": {},
   "outputs": [],
   "source": [
    "#Set the hypothesis\n",
    "\n",
    "#H0: control completion rate == test completion rate\n",
    "#H1: control completion rate != test completion rate\n",
    "\n",
    "alpha = 0.05"
   ]
  },
  {
   "cell_type": "code",
   "execution_count": 146,
   "id": "29eb6ac9-aa3a-4bef-8f40-40bd09624e4a",
   "metadata": {
    "scrolled": true
   },
   "outputs": [
    {
     "name": "stdout",
     "output_type": "stream",
     "text": [
      "Test Completion Rate: 0.4210\n",
      "Control Completion Rate: 0.4091\n"
     ]
    }
   ],
   "source": [
    "import numpy as np\n",
    "\n",
    "# Assuming 'results' is the dataframe with the given data\n",
    "test_visits = visit_df[visit_df['Variation'] == 'Test']\n",
    "control_visits = visit_df[visit_df['Variation'] == 'Control']\n",
    "\n",
    "# Calculate the number of successes (True values for 'successful_visit')\n",
    "test_success = test_visits[test_visits['successful_visit'] == True].shape[0]\n",
    "test_total = test_visits.shape[0]\n",
    "\n",
    "control_success = control_visits[control_visits['successful_visit'] == True].shape[0]\n",
    "control_total = control_visits.shape[0]\n",
    "\n",
    "# Calculate the completion rates (proportions)\n",
    "test_success_rate = test_success / test_total\n",
    "control_success_rate = control_success / control_total\n",
    "\n",
    "print(f\"Test Completion Rate: {test_success_rate:.4f}\")\n",
    "print(f\"Control Completion Rate: {control_success_rate:.4f}\")"
   ]
  },
  {
   "cell_type": "code",
   "execution_count": 147,
   "id": "dfeb97c6-c376-4270-8b8a-83df3f63339a",
   "metadata": {},
   "outputs": [],
   "source": [
    "#Samples:\n",
    "test_samples = [np.mean(np.random.choice(test_visits['successful_visit'], 100))for _ in range(500)]\n",
    "control_samples = [np.mean(np.random.choice(control_visits['successful_visit'], 100))for _ in range(500)]"
   ]
  },
  {
   "cell_type": "code",
   "execution_count": 148,
   "id": "2d1776a7-4772-4b53-a81f-aa9e7d78f33e",
   "metadata": {},
   "outputs": [
    {
     "data": {
      "text/plain": [
       "<function matplotlib.pyplot.show(close=None, block=None)>"
      ]
     },
     "execution_count": 148,
     "metadata": {},
     "output_type": "execute_result"
    },
    {
     "data": {
      "image/png": "[encoded data removed]",
      "text/plain": [
       "<Figure size 640x480 with 1 Axes>"
      ]
     },
     "metadata": {},
     "output_type": "display_data"
    }
   ],
   "source": [
    "plt.hist(test_samples)\n",
    "plt.show"
   ]
  },
  {
   "cell_type": "code",
   "execution_count": 149,
   "id": "27a36558-d9ca-4cd5-b326-85aa1387856c",
   "metadata": {},
   "outputs": [
    {
     "data": {
      "text/plain": [
       "<function matplotlib.pyplot.show(close=None, block=None)>"
      ]
     },
     "execution_count": 149,
     "metadata": {},
     "output_type": "execute_result"
    },
    {
     "data": {
      "image/png": "[encoded data removed]",
      "text/plain": [
       "<Figure size 640x480 with 1 Axes>"
      ]
     },
     "metadata": {},
     "output_type": "display_data"
    }
   ],
   "source": [
    "plt.hist(control_samples)\n",
    "plt.show"
   ]
  },
  {
   "cell_type": "code",
   "execution_count": 150,
   "id": "bc76423b-d474-44a5-bc7f-dd412a1c39fb",
   "metadata": {},
   "outputs": [
    {
     "data": {
      "text/plain": [
       "TtestResult(statistic=2.431459630712606, pvalue=0.015213731691638564, df=995.2494268161577)"
      ]
     },
     "execution_count": 150,
     "metadata": {},
     "output_type": "execute_result"
    }
   ],
   "source": [
    "st.ttest_ind(test_samples, control_samples, equal_var=False, alternative=\"two-sided\")\n"
   ]
  },
  {
   "cell_type": "code",
   "execution_count": 151,
   "id": "7fc95076-e413-4911-a9a2-c4922a681cc2",
   "metadata": {},
   "outputs": [],
   "source": [
    "#p-value is less than alpha (0.05)"
   ]
  },
  {
   "cell_type": "code",
   "execution_count": 152,
   "id": "c2af6e96-fbb3-49cc-b96b-0f93f5e05949",
   "metadata": {},
   "outputs": [],
   "source": [
    "success_df = visit_df[visit_df['successful_visit']==True]"
   ]
  },
  {
   "cell_type": "code",
   "execution_count": 153,
   "id": "64b72c2f-8448-42ee-9971-0d8a54f2dcc4",
   "metadata": {},
   "outputs": [
    {
     "data": {
      "text/html": [
       "<div>\n",
       "<style scoped>\n",
       "    .dataframe tbody tr th:only-of-type {\n",
       "        vertical-align: middle;\n",
       "    }\n",
       "\n",
       "    .dataframe tbody tr th {\n",
       "        vertical-align: top;\n",
       "    }\n",
       "\n",
       "    .dataframe thead th {\n",
       "        text-align: right;\n",
       "    }\n",
       "</style>\n",
       "<table border=\"1\" class=\"dataframe\">\n",
       "  <thead>\n",
       "    <tr style=\"text-align: right;\">\n",
       "      <th></th>\n",
       "      <th>visit_id</th>\n",
       "      <th>client_id</th>\n",
       "      <th>Variation</th>\n",
       "      <th>successful_visit</th>\n",
       "      <th>step_count</th>\n",
       "      <th>visit_duration</th>\n",
       "      <th>confirm</th>\n",
       "      <th>start</th>\n",
       "      <th>step_1</th>\n",
       "      <th>step_2</th>\n",
       "      <th>step_3</th>\n",
       "    </tr>\n",
       "  </thead>\n",
       "  <tbody>\n",
       "    <tr>\n",
       "      <th>1</th>\n",
       "      <td>100019538_17884295066_43909</td>\n",
       "      <td>7338123</td>\n",
       "      <td>Test</td>\n",
       "      <td>True</td>\n",
       "      <td>9</td>\n",
       "      <td>226.0</td>\n",
       "      <td>1</td>\n",
       "      <td>1</td>\n",
       "      <td>4</td>\n",
       "      <td>2</td>\n",
       "      <td>1</td>\n",
       "    </tr>\n",
       "    <tr>\n",
       "      <th>2</th>\n",
       "      <td>100022086_87870757897_149620</td>\n",
       "      <td>2478628</td>\n",
       "      <td>Test</td>\n",
       "      <td>True</td>\n",
       "      <td>5</td>\n",
       "      <td>180.0</td>\n",
       "      <td>1</td>\n",
       "      <td>1</td>\n",
       "      <td>1</td>\n",
       "      <td>1</td>\n",
       "      <td>1</td>\n",
       "    </tr>\n",
       "    <tr>\n",
       "      <th>6</th>\n",
       "      <td>10006594_66157970412_679648</td>\n",
       "      <td>3479519</td>\n",
       "      <td>Control</td>\n",
       "      <td>True</td>\n",
       "      <td>7</td>\n",
       "      <td>354.0</td>\n",
       "      <td>1</td>\n",
       "      <td>1</td>\n",
       "      <td>1</td>\n",
       "      <td>1</td>\n",
       "      <td>3</td>\n",
       "    </tr>\n",
       "    <tr>\n",
       "      <th>10</th>\n",
       "      <td>100173292_91322748906_143563</td>\n",
       "      <td>8631696</td>\n",
       "      <td>Test</td>\n",
       "      <td>True</td>\n",
       "      <td>5</td>\n",
       "      <td>95.0</td>\n",
       "      <td>1</td>\n",
       "      <td>1</td>\n",
       "      <td>1</td>\n",
       "      <td>1</td>\n",
       "      <td>1</td>\n",
       "    </tr>\n",
       "    <tr>\n",
       "      <th>13</th>\n",
       "      <td>100254180_47139859079_984581</td>\n",
       "      <td>984526</td>\n",
       "      <td>Control</td>\n",
       "      <td>True</td>\n",
       "      <td>5</td>\n",
       "      <td>341.0</td>\n",
       "      <td>1</td>\n",
       "      <td>1</td>\n",
       "      <td>1</td>\n",
       "      <td>1</td>\n",
       "      <td>1</td>\n",
       "    </tr>\n",
       "  </tbody>\n",
       "</table>\n",
       "</div>"
      ],
      "text/plain": [
       "                        visit_id  client_id Variation  successful_visit  \\\n",
       "1    100019538_17884295066_43909    7338123      Test              True   \n",
       "2   100022086_87870757897_149620    2478628      Test              True   \n",
       "6    10006594_66157970412_679648    3479519   Control              True   \n",
       "10  100173292_91322748906_143563    8631696      Test              True   \n",
       "13  100254180_47139859079_984581     984526   Control              True   \n",
       "\n",
       "    step_count  visit_duration  confirm  start  step_1  step_2  step_3  \n",
       "1            9           226.0        1      1       4       2       1  \n",
       "2            5           180.0        1      1       1       1       1  \n",
       "6            7           354.0        1      1       1       1       3  \n",
       "10           5            95.0        1      1       1       1       1  \n",
       "13           5           341.0        1      1       1       1       1  "
      ]
     },
     "execution_count": 153,
     "metadata": {},
     "output_type": "execute_result"
    }
   ],
   "source": [
    "success_df.head()"
   ]
  },
  {
   "cell_type": "code",
   "execution_count": 154,
   "id": "22d70585-f3b9-4bb0-8631-ce25da3bb835",
   "metadata": {},
   "outputs": [],
   "source": [
    "test_success_durations = success_df[success_df['Variation'] == 'Test']['visit_duration']\n",
    "control_success_durations = success_df[success_df['Variation'] == 'Control']['visit_duration']\n",
    "\n",
    "# H0 test_success_duration mean != control_success_duration mean "
   ]
  },
  {
   "cell_type": "code",
   "execution_count": 155,
   "id": "dfeba548-51b6-4129-bb98-afaf89099752",
   "metadata": {},
   "outputs": [
    {
     "data": {
      "text/plain": [
       "TtestResult(statistic=-21.336020097650984, pvalue=5.591541239331568e-100, df=21708.833506331393)"
      ]
     },
     "execution_count": 155,
     "metadata": {},
     "output_type": "execute_result"
    }
   ],
   "source": [
    "st.ttest_ind(test_success_durations, control_success_durations, equal_var=False, alternative=\"two-sided\")"
   ]
  },
  {
   "cell_type": "code",
   "execution_count": 156,
   "id": "3522efc3-5c42-4000-82b6-69eee678d4e2",
   "metadata": {},
   "outputs": [],
   "source": [
    "#p-value is less than alpha (0.05)"
   ]
  },
  {
   "cell_type": "code",
   "execution_count": 157,
   "id": "690416f8-7d58-463c-91dd-aa39d9061d31",
   "metadata": {},
   "outputs": [
    {
     "data": {
      "text/plain": [
       "<function matplotlib.pyplot.show(close=None, block=None)>"
      ]
     },
     "execution_count": 157,
     "metadata": {},
     "output_type": "execute_result"
    },
    {
     "data": {
      "image/png": "[encoded data removed]",
      "text/plain": [
       "<Figure size 640x480 with 1 Axes>"
      ]
     },
     "metadata": {},
     "output_type": "display_data"
    }
   ],
   "source": [
    "plt.hist(test_success_durations, bins=50)\n",
    "plt.show"
   ]
  },
  {
   "cell_type": "code",
   "execution_count": 175,
   "id": "a67b1b56-91b7-4c97-971f-270310005d48",
   "metadata": {},
   "outputs": [
    {
     "data": {
      "image/png": "[encoded data removed]",
      "text/plain": [
       "<Figure size 640x480 with 1 Axes>"
      ]
     },
     "metadata": {},
     "output_type": "display_data"
    }
   ],
   "source": [
    "sns.kdeplot(control_success_durations, label='Control', fill=True)\n",
    "sns.kdeplot(test_success_durations, label='Test', fill=True)\n",
    "\n",
    "plt.xlabel('Duration')\n",
    "plt.ylabel('Density')\n",
    "plt.title('KDE Plot for Control vs Test Successful Visit Duration')\n",
    "plt.legend()\n",
    "plt.show\n",
    "plt.savefig(\"../figures/visit_duration_control_vs_test.png\", transparent=True)"
   ]
  },
  {
   "cell_type": "code",
   "execution_count": 159,
   "id": "4f697605-8514-4933-85c1-aca958162965",
   "metadata": {},
   "outputs": [],
   "source": [
    "test_success_steps = success_df[success_df['Variation'] == 'Test']['step_count']\n",
    "control_success_steps = success_df[success_df['Variation'] == 'Control']['step_count']\n",
    "\n",
    "# H0 test_success_duration mean != control_success_duration mean "
   ]
  },
  {
   "cell_type": "code",
   "execution_count": 160,
   "id": "fed1d383-da56-489c-9022-f047698f9665",
   "metadata": {},
   "outputs": [
    {
     "data": {
      "image/png": "[encoded data removed]",
      "text/plain": [
       "<Figure size 640x480 with 1 Axes>"
      ]
     },
     "metadata": {},
     "output_type": "display_data"
    }
   ],
   "source": [
    "# Plotting the normalized histograms\n",
    "# Combine the datasets into a single DataFrame for easier plotting\n",
    "import pandas as pd\n",
    "\n",
    "limit = success_df[success_df['step_count']< 15]\n",
    "    \n",
    "    # Create the violin plot\n",
    "sns.violinplot(x='Variation', y='step_count', hue='Variation', data=limit)\n",
    "\n",
    "# Adding labels and title\n",
    "plt.ylabel('Step Count')\n",
    "plt.title('Violin Plot of Control and Test Data (Step Counts)')\n",
    "\n",
    "# Show the plot\n",
    "plt.show()"
   ]
  },
  {
   "cell_type": "code",
   "execution_count": 161,
   "id": "025ccf6d-c4c4-4eab-9392-7074e0ae412e",
   "metadata": {},
   "outputs": [
    {
     "name": "stderr",
     "output_type": "stream",
     "text": [
      "C:\\Users\\olgeo\\AppData\\Local\\Temp\\ipykernel_15952\\893607091.py:1: SettingWithCopyWarning: \n",
      "A value is trying to be set on a copy of a slice from a DataFrame.\n",
      "Try using .loc[row_indexer,col_indexer] = value instead\n",
      "\n",
      "See the caveats in the documentation: https://pandas.pydata.org/pandas-docs/stable/user_guide/indexing.html#returning-a-view-versus-a-copy\n",
      "  success_df['over_4_steps'] = success_df['step_count'] > 4\n"
     ]
    }
   ],
   "source": [
    "success_df['over_4_steps'] = success_df['step_count'] > 4"
   ]
  },
  {
   "cell_type": "code",
   "execution_count": 162,
   "id": "5632b35b-17da-4a56-90db-d3050cd016b4",
   "metadata": {},
   "outputs": [
    {
     "data": {
      "text/html": [
       "<div>\n",
       "<style scoped>\n",
       "    .dataframe tbody tr th:only-of-type {\n",
       "        vertical-align: middle;\n",
       "    }\n",
       "\n",
       "    .dataframe tbody tr th {\n",
       "        vertical-align: top;\n",
       "    }\n",
       "\n",
       "    .dataframe thead th {\n",
       "        text-align: right;\n",
       "    }\n",
       "</style>\n",
       "<table border=\"1\" class=\"dataframe\">\n",
       "  <thead>\n",
       "    <tr style=\"text-align: right;\">\n",
       "      <th>over_4_steps</th>\n",
       "      <th>False</th>\n",
       "      <th>True</th>\n",
       "    </tr>\n",
       "    <tr>\n",
       "      <th>Variation</th>\n",
       "      <th></th>\n",
       "      <th></th>\n",
       "    </tr>\n",
       "  </thead>\n",
       "  <tbody>\n",
       "    <tr>\n",
       "      <th>Control</th>\n",
       "      <td>56</td>\n",
       "      <td>10557</td>\n",
       "    </tr>\n",
       "    <tr>\n",
       "      <th>Test</th>\n",
       "      <td>74</td>\n",
       "      <td>11657</td>\n",
       "    </tr>\n",
       "  </tbody>\n",
       "</table>\n",
       "</div>"
      ],
      "text/plain": [
       "over_4_steps  False  True \n",
       "Variation                 \n",
       "Control          56  10557\n",
       "Test             74  11657"
      ]
     },
     "execution_count": 162,
     "metadata": {},
     "output_type": "execute_result"
    }
   ],
   "source": [
    "success_df.pivot_table(index='Variation',\n",
    "                columns='over_4_steps',\n",
    "                values='visit_id',\n",
    "                aggfunc='count')"
   ]
  },
  {
   "cell_type": "code",
   "execution_count": 163,
   "id": "9af543b8-a285-4b89-80a7-0e80f616d073",
   "metadata": {},
   "outputs": [
    {
     "data": {
      "text/html": [
       "<div>\n",
       "<style scoped>\n",
       "    .dataframe tbody tr th:only-of-type {\n",
       "        vertical-align: middle;\n",
       "    }\n",
       "\n",
       "    .dataframe tbody tr th {\n",
       "        vertical-align: top;\n",
       "    }\n",
       "\n",
       "    .dataframe thead th {\n",
       "        text-align: right;\n",
       "    }\n",
       "</style>\n",
       "<table border=\"1\" class=\"dataframe\">\n",
       "  <thead>\n",
       "    <tr style=\"text-align: right;\">\n",
       "      <th></th>\n",
       "      <th>client_id</th>\n",
       "      <th>visitor_id</th>\n",
       "      <th>visit_id</th>\n",
       "      <th>process_step</th>\n",
       "      <th>date_time</th>\n",
       "      <th>Variation</th>\n",
       "      <th>visit_final_step</th>\n",
       "      <th>step_duration</th>\n",
       "      <th>step_proceeds</th>\n",
       "      <th>step_error</th>\n",
       "      <th>successful_visit</th>\n",
       "      <th>other_issue</th>\n",
       "    </tr>\n",
       "  </thead>\n",
       "  <tbody>\n",
       "    <tr>\n",
       "      <th>0</th>\n",
       "      <td>555</td>\n",
       "      <td>402506806_56087378777</td>\n",
       "      <td>637149525_38041617439_716659</td>\n",
       "      <td>start</td>\n",
       "      <td>2017-04-15 12:57:56</td>\n",
       "      <td>Test</td>\n",
       "      <td>False</td>\n",
       "      <td>7.0</td>\n",
       "      <td>True</td>\n",
       "      <td>False</td>\n",
       "      <td>True</td>\n",
       "      <td>False</td>\n",
       "    </tr>\n",
       "    <tr>\n",
       "      <th>1</th>\n",
       "      <td>555</td>\n",
       "      <td>402506806_56087378777</td>\n",
       "      <td>637149525_38041617439_716659</td>\n",
       "      <td>step_1</td>\n",
       "      <td>2017-04-15 12:58:03</td>\n",
       "      <td>Test</td>\n",
       "      <td>False</td>\n",
       "      <td>32.0</td>\n",
       "      <td>True</td>\n",
       "      <td>False</td>\n",
       "      <td>True</td>\n",
       "      <td>False</td>\n",
       "    </tr>\n",
       "    <tr>\n",
       "      <th>2</th>\n",
       "      <td>555</td>\n",
       "      <td>402506806_56087378777</td>\n",
       "      <td>637149525_38041617439_716659</td>\n",
       "      <td>step_2</td>\n",
       "      <td>2017-04-15 12:58:35</td>\n",
       "      <td>Test</td>\n",
       "      <td>False</td>\n",
       "      <td>99.0</td>\n",
       "      <td>True</td>\n",
       "      <td>False</td>\n",
       "      <td>True</td>\n",
       "      <td>False</td>\n",
       "    </tr>\n",
       "    <tr>\n",
       "      <th>3</th>\n",
       "      <td>555</td>\n",
       "      <td>402506806_56087378777</td>\n",
       "      <td>637149525_38041617439_716659</td>\n",
       "      <td>step_3</td>\n",
       "      <td>2017-04-15 13:00:14</td>\n",
       "      <td>Test</td>\n",
       "      <td>False</td>\n",
       "      <td>20.0</td>\n",
       "      <td>True</td>\n",
       "      <td>False</td>\n",
       "      <td>True</td>\n",
       "      <td>False</td>\n",
       "    </tr>\n",
       "    <tr>\n",
       "      <th>4</th>\n",
       "      <td>555</td>\n",
       "      <td>402506806_56087378777</td>\n",
       "      <td>637149525_38041617439_716659</td>\n",
       "      <td>confirm</td>\n",
       "      <td>2017-04-15 13:00:34</td>\n",
       "      <td>Test</td>\n",
       "      <td>True</td>\n",
       "      <td>NaN</td>\n",
       "      <td>False</td>\n",
       "      <td>False</td>\n",
       "      <td>True</td>\n",
       "      <td>False</td>\n",
       "    </tr>\n",
       "  </tbody>\n",
       "</table>\n",
       "</div>"
      ],
      "text/plain": [
       "   client_id             visitor_id                      visit_id  \\\n",
       "0        555  402506806_56087378777  637149525_38041617439_716659   \n",
       "1        555  402506806_56087378777  637149525_38041617439_716659   \n",
       "2        555  402506806_56087378777  637149525_38041617439_716659   \n",
       "3        555  402506806_56087378777  637149525_38041617439_716659   \n",
       "4        555  402506806_56087378777  637149525_38041617439_716659   \n",
       "\n",
       "  process_step            date_time Variation  visit_final_step  \\\n",
       "0        start  2017-04-15 12:57:56      Test             False   \n",
       "1       step_1  2017-04-15 12:58:03      Test             False   \n",
       "2       step_2  2017-04-15 12:58:35      Test             False   \n",
       "3       step_3  2017-04-15 13:00:14      Test             False   \n",
       "4      confirm  2017-04-15 13:00:34      Test              True   \n",
       "\n",
       "   step_duration  step_proceeds  step_error  successful_visit  other_issue  \n",
       "0            7.0           True       False              True        False  \n",
       "1           32.0           True       False              True        False  \n",
       "2           99.0           True       False              True        False  \n",
       "3           20.0           True       False              True        False  \n",
       "4            NaN          False       False              True        False  "
      ]
     },
     "execution_count": 163,
     "metadata": {},
     "output_type": "execute_result"
    }
   ],
   "source": [
    "analysis_df.head()"
   ]
  },
  {
   "cell_type": "code",
   "execution_count": 177,
   "id": "2d37d732-ee0a-4962-8d9c-2eaa569e865f",
   "metadata": {},
   "outputs": [
    {
     "data": {
      "text/html": [
       "<div>\n",
       "<style scoped>\n",
       "    .dataframe tbody tr th:only-of-type {\n",
       "        vertical-align: middle;\n",
       "    }\n",
       "\n",
       "    .dataframe tbody tr th {\n",
       "        vertical-align: top;\n",
       "    }\n",
       "\n",
       "    .dataframe thead th {\n",
       "        text-align: right;\n",
       "    }\n",
       "</style>\n",
       "<table border=\"1\" class=\"dataframe\">\n",
       "  <thead>\n",
       "    <tr style=\"text-align: right;\">\n",
       "      <th>Variation</th>\n",
       "      <th>Control</th>\n",
       "      <th>Test</th>\n",
       "    </tr>\n",
       "    <tr>\n",
       "      <th>process_step</th>\n",
       "      <th></th>\n",
       "      <th></th>\n",
       "    </tr>\n",
       "  </thead>\n",
       "  <tbody>\n",
       "    <tr>\n",
       "      <th>confirm</th>\n",
       "      <td>0.894395</td>\n",
       "      <td>0.979518</td>\n",
       "    </tr>\n",
       "    <tr>\n",
       "      <th>start</th>\n",
       "      <td>0.624602</td>\n",
       "      <td>0.652217</td>\n",
       "    </tr>\n",
       "    <tr>\n",
       "      <th>step_1</th>\n",
       "      <td>0.319206</td>\n",
       "      <td>0.234841</td>\n",
       "    </tr>\n",
       "    <tr>\n",
       "      <th>step_2</th>\n",
       "      <td>0.242829</td>\n",
       "      <td>0.163255</td>\n",
       "    </tr>\n",
       "    <tr>\n",
       "      <th>step_3</th>\n",
       "      <td>0.508371</td>\n",
       "      <td>0.325377</td>\n",
       "    </tr>\n",
       "  </tbody>\n",
       "</table>\n",
       "</div>"
      ],
      "text/plain": [
       "Variation      Control      Test\n",
       "process_step                    \n",
       "confirm       0.894395  0.979518\n",
       "start         0.624602  0.652217\n",
       "step_1        0.319206  0.234841\n",
       "step_2        0.242829  0.163255\n",
       "step_3        0.508371  0.325377"
      ]
     },
     "execution_count": 177,
     "metadata": {},
     "output_type": "execute_result"
    }
   ],
   "source": [
    "test = analysis_df.copy()\n",
    "non_success_df = test[test['successful_visit']==False]\n",
    "\n",
    "piv_df = non_success_df.pivot_table(index='process_step',\n",
    "                                   columns='Variation',\n",
    "                                   values='visit_final_step',\n",
    "                                   aggfunc=\"mean\")\n",
    "\n",
    "piv_df\n",
    "#piv_df[~piv_df['process_step']=='confirm']"
   ]
  },
  {
   "cell_type": "code",
   "execution_count": 180,
   "id": "849e7515-a19b-48f1-9b6e-2e8ece094f59",
   "metadata": {},
   "outputs": [
    {
     "data": {
      "text/html": [
       "<div>\n",
       "<style scoped>\n",
       "    .dataframe tbody tr th:only-of-type {\n",
       "        vertical-align: middle;\n",
       "    }\n",
       "\n",
       "    .dataframe tbody tr th {\n",
       "        vertical-align: top;\n",
       "    }\n",
       "\n",
       "    .dataframe thead th {\n",
       "        text-align: right;\n",
       "    }\n",
       "</style>\n",
       "<table border=\"1\" class=\"dataframe\">\n",
       "  <thead>\n",
       "    <tr style=\"text-align: right;\">\n",
       "      <th></th>\n",
       "      <th>client_id</th>\n",
       "      <th>clnt_tenure_yr</th>\n",
       "      <th>clnt_tenure_mnth</th>\n",
       "      <th>clnt_age</th>\n",
       "      <th>gendr</th>\n",
       "      <th>num_accts</th>\n",
       "      <th>bal</th>\n",
       "      <th>calls_6_mnth</th>\n",
       "      <th>logons_6_mnth</th>\n",
       "      <th>Variation</th>\n",
       "      <th>balance_quartile</th>\n",
       "    </tr>\n",
       "  </thead>\n",
       "  <tbody>\n",
       "    <tr>\n",
       "      <th>0</th>\n",
       "      <td>169</td>\n",
       "      <td>21.0</td>\n",
       "      <td>262.0</td>\n",
       "      <td>47.5</td>\n",
       "      <td>M</td>\n",
       "      <td>2.0</td>\n",
       "      <td>501570.72</td>\n",
       "      <td>4.0</td>\n",
       "      <td>4.0</td>\n",
       "      <td>NaN</td>\n",
       "      <td>Q4</td>\n",
       "    </tr>\n",
       "    <tr>\n",
       "      <th>1</th>\n",
       "      <td>555</td>\n",
       "      <td>3.0</td>\n",
       "      <td>46.0</td>\n",
       "      <td>29.5</td>\n",
       "      <td>U</td>\n",
       "      <td>2.0</td>\n",
       "      <td>25454.66</td>\n",
       "      <td>2.0</td>\n",
       "      <td>6.0</td>\n",
       "      <td>Test</td>\n",
       "      <td>Q1</td>\n",
       "    </tr>\n",
       "    <tr>\n",
       "      <th>2</th>\n",
       "      <td>647</td>\n",
       "      <td>12.0</td>\n",
       "      <td>151.0</td>\n",
       "      <td>57.5</td>\n",
       "      <td>M</td>\n",
       "      <td>2.0</td>\n",
       "      <td>30525.80</td>\n",
       "      <td>0.0</td>\n",
       "      <td>4.0</td>\n",
       "      <td>Test</td>\n",
       "      <td>Q1</td>\n",
       "    </tr>\n",
       "    <tr>\n",
       "      <th>3</th>\n",
       "      <td>722</td>\n",
       "      <td>11.0</td>\n",
       "      <td>143.0</td>\n",
       "      <td>59.5</td>\n",
       "      <td>F</td>\n",
       "      <td>2.0</td>\n",
       "      <td>22466.17</td>\n",
       "      <td>1.0</td>\n",
       "      <td>1.0</td>\n",
       "      <td>NaN</td>\n",
       "      <td>Q1</td>\n",
       "    </tr>\n",
       "    <tr>\n",
       "      <th>4</th>\n",
       "      <td>934</td>\n",
       "      <td>9.0</td>\n",
       "      <td>109.0</td>\n",
       "      <td>51.0</td>\n",
       "      <td>F</td>\n",
       "      <td>2.0</td>\n",
       "      <td>32522.88</td>\n",
       "      <td>0.0</td>\n",
       "      <td>3.0</td>\n",
       "      <td>Test</td>\n",
       "      <td>Q1</td>\n",
       "    </tr>\n",
       "  </tbody>\n",
       "</table>\n",
       "</div>"
      ],
      "text/plain": [
       "   client_id  clnt_tenure_yr  clnt_tenure_mnth  clnt_age gendr  num_accts  \\\n",
       "0        169            21.0             262.0      47.5     M        2.0   \n",
       "1        555             3.0              46.0      29.5     U        2.0   \n",
       "2        647            12.0             151.0      57.5     M        2.0   \n",
       "3        722            11.0             143.0      59.5     F        2.0   \n",
       "4        934             9.0             109.0      51.0     F        2.0   \n",
       "\n",
       "         bal  calls_6_mnth  logons_6_mnth Variation balance_quartile  \n",
       "0  501570.72           4.0            4.0       NaN               Q4  \n",
       "1   25454.66           2.0            6.0      Test               Q1  \n",
       "2   30525.80           0.0            4.0      Test               Q1  \n",
       "3   22466.17           1.0            1.0       NaN               Q1  \n",
       "4   32522.88           0.0            3.0      Test               Q1  "
      ]
     },
     "execution_count": 180,
     "metadata": {},
     "output_type": "execute_result"
    }
   ],
   "source": [
    "client_df.head()"
   ]
  },
  {
   "cell_type": "code",
   "execution_count": 181,
   "id": "8ada8a19-c067-4032-972c-505a212c7fab",
   "metadata": {},
   "outputs": [],
   "source": [
    "analysis_client = pd.merge(analysis_df, client_df, on='client_id', how='left')"
   ]
  },
  {
   "cell_type": "code",
   "execution_count": 184,
   "id": "04bcf27d-4910-4032-afc0-1536a7587507",
   "metadata": {},
   "outputs": [],
   "source": [
    "analysis_client.drop(columns=['Variation_y'],axis=1,inplace=True)"
   ]
  },
  {
   "cell_type": "code",
   "execution_count": 186,
   "id": "35616e98-3d7c-469e-a6e4-a3c2651e961c",
   "metadata": {},
   "outputs": [],
   "source": [
    "analysis_client.rename(columns={'Variation_x' : 'Variation'}, inplace=True)"
   ]
  },
  {
   "cell_type": "code",
   "execution_count": 188,
   "id": "1654096d-ed16-4548-955d-f640f6617700",
   "metadata": {},
   "outputs": [
    {
     "data": {
      "text/html": [
       "<div>\n",
       "<style scoped>\n",
       "    .dataframe tbody tr th:only-of-type {\n",
       "        vertical-align: middle;\n",
       "    }\n",
       "\n",
       "    .dataframe tbody tr th {\n",
       "        vertical-align: top;\n",
       "    }\n",
       "\n",
       "    .dataframe thead th {\n",
       "        text-align: right;\n",
       "    }\n",
       "</style>\n",
       "<table border=\"1\" class=\"dataframe\">\n",
       "  <thead>\n",
       "    <tr style=\"text-align: right;\">\n",
       "      <th></th>\n",
       "      <th>client_id</th>\n",
       "      <th>visitor_id</th>\n",
       "      <th>visit_id</th>\n",
       "      <th>process_step</th>\n",
       "      <th>date_time</th>\n",
       "      <th>Variation</th>\n",
       "      <th>visit_final_step</th>\n",
       "      <th>step_duration</th>\n",
       "      <th>step_proceeds</th>\n",
       "      <th>step_error</th>\n",
       "      <th>...</th>\n",
       "      <th>other_issue</th>\n",
       "      <th>clnt_tenure_yr</th>\n",
       "      <th>clnt_tenure_mnth</th>\n",
       "      <th>clnt_age</th>\n",
       "      <th>gendr</th>\n",
       "      <th>num_accts</th>\n",
       "      <th>bal</th>\n",
       "      <th>calls_6_mnth</th>\n",
       "      <th>logons_6_mnth</th>\n",
       "      <th>balance_quartile</th>\n",
       "    </tr>\n",
       "  </thead>\n",
       "  <tbody>\n",
       "    <tr>\n",
       "      <th>0</th>\n",
       "      <td>555</td>\n",
       "      <td>402506806_56087378777</td>\n",
       "      <td>637149525_38041617439_716659</td>\n",
       "      <td>start</td>\n",
       "      <td>2017-04-15 12:57:56</td>\n",
       "      <td>Test</td>\n",
       "      <td>False</td>\n",
       "      <td>7.0</td>\n",
       "      <td>True</td>\n",
       "      <td>False</td>\n",
       "      <td>...</td>\n",
       "      <td>False</td>\n",
       "      <td>3.0</td>\n",
       "      <td>46.0</td>\n",
       "      <td>29.5</td>\n",
       "      <td>U</td>\n",
       "      <td>2.0</td>\n",
       "      <td>25454.66</td>\n",
       "      <td>2.0</td>\n",
       "      <td>6.0</td>\n",
       "      <td>Q1</td>\n",
       "    </tr>\n",
       "    <tr>\n",
       "      <th>1</th>\n",
       "      <td>555</td>\n",
       "      <td>402506806_56087378777</td>\n",
       "      <td>637149525_38041617439_716659</td>\n",
       "      <td>step_1</td>\n",
       "      <td>2017-04-15 12:58:03</td>\n",
       "      <td>Test</td>\n",
       "      <td>False</td>\n",
       "      <td>32.0</td>\n",
       "      <td>True</td>\n",
       "      <td>False</td>\n",
       "      <td>...</td>\n",
       "      <td>False</td>\n",
       "      <td>3.0</td>\n",
       "      <td>46.0</td>\n",
       "      <td>29.5</td>\n",
       "      <td>U</td>\n",
       "      <td>2.0</td>\n",
       "      <td>25454.66</td>\n",
       "      <td>2.0</td>\n",
       "      <td>6.0</td>\n",
       "      <td>Q1</td>\n",
       "    </tr>\n",
       "    <tr>\n",
       "      <th>2</th>\n",
       "      <td>555</td>\n",
       "      <td>402506806_56087378777</td>\n",
       "      <td>637149525_38041617439_716659</td>\n",
       "      <td>step_2</td>\n",
       "      <td>2017-04-15 12:58:35</td>\n",
       "      <td>Test</td>\n",
       "      <td>False</td>\n",
       "      <td>99.0</td>\n",
       "      <td>True</td>\n",
       "      <td>False</td>\n",
       "      <td>...</td>\n",
       "      <td>False</td>\n",
       "      <td>3.0</td>\n",
       "      <td>46.0</td>\n",
       "      <td>29.5</td>\n",
       "      <td>U</td>\n",
       "      <td>2.0</td>\n",
       "      <td>25454.66</td>\n",
       "      <td>2.0</td>\n",
       "      <td>6.0</td>\n",
       "      <td>Q1</td>\n",
       "    </tr>\n",
       "    <tr>\n",
       "      <th>3</th>\n",
       "      <td>555</td>\n",
       "      <td>402506806_56087378777</td>\n",
       "      <td>637149525_38041617439_716659</td>\n",
       "      <td>step_3</td>\n",
       "      <td>2017-04-15 13:00:14</td>\n",
       "      <td>Test</td>\n",
       "      <td>False</td>\n",
       "      <td>20.0</td>\n",
       "      <td>True</td>\n",
       "      <td>False</td>\n",
       "      <td>...</td>\n",
       "      <td>False</td>\n",
       "      <td>3.0</td>\n",
       "      <td>46.0</td>\n",
       "      <td>29.5</td>\n",
       "      <td>U</td>\n",
       "      <td>2.0</td>\n",
       "      <td>25454.66</td>\n",
       "      <td>2.0</td>\n",
       "      <td>6.0</td>\n",
       "      <td>Q1</td>\n",
       "    </tr>\n",
       "    <tr>\n",
       "      <th>4</th>\n",
       "      <td>555</td>\n",
       "      <td>402506806_56087378777</td>\n",
       "      <td>637149525_38041617439_716659</td>\n",
       "      <td>confirm</td>\n",
       "      <td>2017-04-15 13:00:34</td>\n",
       "      <td>Test</td>\n",
       "      <td>True</td>\n",
       "      <td>NaN</td>\n",
       "      <td>False</td>\n",
       "      <td>False</td>\n",
       "      <td>...</td>\n",
       "      <td>False</td>\n",
       "      <td>3.0</td>\n",
       "      <td>46.0</td>\n",
       "      <td>29.5</td>\n",
       "      <td>U</td>\n",
       "      <td>2.0</td>\n",
       "      <td>25454.66</td>\n",
       "      <td>2.0</td>\n",
       "      <td>6.0</td>\n",
       "      <td>Q1</td>\n",
       "    </tr>\n",
       "  </tbody>\n",
       "</table>\n",
       "<p>5 rows × 21 columns</p>\n",
       "</div>"
      ],
      "text/plain": [
       "   client_id             visitor_id                      visit_id  \\\n",
       "0        555  402506806_56087378777  637149525_38041617439_716659   \n",
       "1        555  402506806_56087378777  637149525_38041617439_716659   \n",
       "2        555  402506806_56087378777  637149525_38041617439_716659   \n",
       "3        555  402506806_56087378777  637149525_38041617439_716659   \n",
       "4        555  402506806_56087378777  637149525_38041617439_716659   \n",
       "\n",
       "  process_step            date_time Variation  visit_final_step  \\\n",
       "0        start  2017-04-15 12:57:56      Test             False   \n",
       "1       step_1  2017-04-15 12:58:03      Test             False   \n",
       "2       step_2  2017-04-15 12:58:35      Test             False   \n",
       "3       step_3  2017-04-15 13:00:14      Test             False   \n",
       "4      confirm  2017-04-15 13:00:34      Test              True   \n",
       "\n",
       "   step_duration  step_proceeds  step_error  ...  other_issue  clnt_tenure_yr  \\\n",
       "0            7.0           True       False  ...        False             3.0   \n",
       "1           32.0           True       False  ...        False             3.0   \n",
       "2           99.0           True       False  ...        False             3.0   \n",
       "3           20.0           True       False  ...        False             3.0   \n",
       "4            NaN          False       False  ...        False             3.0   \n",
       "\n",
       "   clnt_tenure_mnth  clnt_age  gendr num_accts       bal  calls_6_mnth  \\\n",
       "0              46.0      29.5      U       2.0  25454.66           2.0   \n",
       "1              46.0      29.5      U       2.0  25454.66           2.0   \n",
       "2              46.0      29.5      U       2.0  25454.66           2.0   \n",
       "3              46.0      29.5      U       2.0  25454.66           2.0   \n",
       "4              46.0      29.5      U       2.0  25454.66           2.0   \n",
       "\n",
       "   logons_6_mnth  balance_quartile  \n",
       "0            6.0                Q1  \n",
       "1            6.0                Q1  \n",
       "2            6.0                Q1  \n",
       "3            6.0                Q1  \n",
       "4            6.0                Q1  \n",
       "\n",
       "[5 rows x 21 columns]"
      ]
     },
     "execution_count": 188,
     "metadata": {},
     "output_type": "execute_result"
    }
   ],
   "source": [
    "analysis_client.head()"
   ]
  },
  {
   "cell_type": "code",
   "execution_count": 190,
   "id": "588e35ed-7e2a-4918-be45-c17fd410efd6",
   "metadata": {},
   "outputs": [],
   "source": [
    "visit_id_df = analysis_df[['visit_id', 'client_id']].drop_duplicates()"
   ]
  },
  {
   "cell_type": "code",
   "execution_count": 205,
   "id": "8edbc513-bf0a-4985-9c6b-11327d9e9ff5",
   "metadata": {},
   "outputs": [
    {
     "data": {
      "text/html": [
       "<div>\n",
       "<style scoped>\n",
       "    .dataframe tbody tr th:only-of-type {\n",
       "        vertical-align: middle;\n",
       "    }\n",
       "\n",
       "    .dataframe tbody tr th {\n",
       "        vertical-align: top;\n",
       "    }\n",
       "\n",
       "    .dataframe thead th {\n",
       "        text-align: right;\n",
       "    }\n",
       "</style>\n",
       "<table border=\"1\" class=\"dataframe\">\n",
       "  <thead>\n",
       "    <tr style=\"text-align: right;\">\n",
       "      <th></th>\n",
       "      <th>visit_id</th>\n",
       "      <th>client_id</th>\n",
       "      <th>Variation</th>\n",
       "      <th>successful_visit</th>\n",
       "      <th>step_count</th>\n",
       "      <th>visit_duration</th>\n",
       "      <th>confirm</th>\n",
       "      <th>start</th>\n",
       "      <th>step_1</th>\n",
       "      <th>step_2</th>\n",
       "      <th>step_3</th>\n",
       "    </tr>\n",
       "  </thead>\n",
       "  <tbody>\n",
       "    <tr>\n",
       "      <th>0</th>\n",
       "      <td>100012776_37918976071_457913</td>\n",
       "      <td>3561384</td>\n",
       "      <td>Test</td>\n",
       "      <td>False</td>\n",
       "      <td>1</td>\n",
       "      <td>0.0</td>\n",
       "      <td>1</td>\n",
       "      <td>0</td>\n",
       "      <td>0</td>\n",
       "      <td>0</td>\n",
       "      <td>0</td>\n",
       "    </tr>\n",
       "    <tr>\n",
       "      <th>1</th>\n",
       "      <td>100019538_17884295066_43909</td>\n",
       "      <td>7338123</td>\n",
       "      <td>Test</td>\n",
       "      <td>True</td>\n",
       "      <td>9</td>\n",
       "      <td>226.0</td>\n",
       "      <td>1</td>\n",
       "      <td>1</td>\n",
       "      <td>4</td>\n",
       "      <td>2</td>\n",
       "      <td>1</td>\n",
       "    </tr>\n",
       "    <tr>\n",
       "      <th>2</th>\n",
       "      <td>100022086_87870757897_149620</td>\n",
       "      <td>2478628</td>\n",
       "      <td>Test</td>\n",
       "      <td>True</td>\n",
       "      <td>5</td>\n",
       "      <td>180.0</td>\n",
       "      <td>1</td>\n",
       "      <td>1</td>\n",
       "      <td>1</td>\n",
       "      <td>1</td>\n",
       "      <td>1</td>\n",
       "    </tr>\n",
       "    <tr>\n",
       "      <th>3</th>\n",
       "      <td>100030127_47967100085_936361</td>\n",
       "      <td>105007</td>\n",
       "      <td>Control</td>\n",
       "      <td>False</td>\n",
       "      <td>1</td>\n",
       "      <td>0.0</td>\n",
       "      <td>0</td>\n",
       "      <td>1</td>\n",
       "      <td>0</td>\n",
       "      <td>0</td>\n",
       "      <td>0</td>\n",
       "    </tr>\n",
       "    <tr>\n",
       "      <th>4</th>\n",
       "      <td>100037962_47432393712_705583</td>\n",
       "      <td>5623007</td>\n",
       "      <td>Control</td>\n",
       "      <td>False</td>\n",
       "      <td>2</td>\n",
       "      <td>8.0</td>\n",
       "      <td>0</td>\n",
       "      <td>1</td>\n",
       "      <td>1</td>\n",
       "      <td>0</td>\n",
       "      <td>0</td>\n",
       "    </tr>\n",
       "  </tbody>\n",
       "</table>\n",
       "</div>"
      ],
      "text/plain": [
       "                       visit_id  client_id Variation  successful_visit  \\\n",
       "0  100012776_37918976071_457913    3561384      Test             False   \n",
       "1   100019538_17884295066_43909    7338123      Test              True   \n",
       "2  100022086_87870757897_149620    2478628      Test              True   \n",
       "3  100030127_47967100085_936361     105007   Control             False   \n",
       "4  100037962_47432393712_705583    5623007   Control             False   \n",
       "\n",
       "   step_count  visit_duration  confirm  start  step_1  step_2  step_3  \n",
       "0           1             0.0        1      0       0       0       0  \n",
       "1           9           226.0        1      1       4       2       1  \n",
       "2           5           180.0        1      1       1       1       1  \n",
       "3           1             0.0        0      1       0       0       0  \n",
       "4           2             8.0        0      1       1       0       0  "
      ]
     },
     "execution_count": 205,
     "metadata": {},
     "output_type": "execute_result"
    }
   ],
   "source": [
    "visit_client = pd.merge(visit_df, visit_id_df, on=['visit_id','client_id'], how='left')\n",
    "visit_client.head()"
   ]
  },
  {
   "cell_type": "code",
   "execution_count": 207,
   "id": "751cc704-8695-4dd1-9037-20df5d3e6e1d",
   "metadata": {},
   "outputs": [
    {
     "data": {
      "text/html": [
       "<div>\n",
       "<style scoped>\n",
       "    .dataframe tbody tr th:only-of-type {\n",
       "        vertical-align: middle;\n",
       "    }\n",
       "\n",
       "    .dataframe tbody tr th {\n",
       "        vertical-align: top;\n",
       "    }\n",
       "\n",
       "    .dataframe thead th {\n",
       "        text-align: right;\n",
       "    }\n",
       "</style>\n",
       "<table border=\"1\" class=\"dataframe\">\n",
       "  <thead>\n",
       "    <tr style=\"text-align: right;\">\n",
       "      <th></th>\n",
       "      <th>visit_id</th>\n",
       "      <th>client_id</th>\n",
       "      <th>Variation_x</th>\n",
       "      <th>successful_visit</th>\n",
       "      <th>step_count</th>\n",
       "      <th>visit_duration</th>\n",
       "      <th>confirm</th>\n",
       "      <th>start</th>\n",
       "      <th>step_1</th>\n",
       "      <th>step_2</th>\n",
       "      <th>...</th>\n",
       "      <th>clnt_tenure_yr</th>\n",
       "      <th>clnt_tenure_mnth</th>\n",
       "      <th>clnt_age</th>\n",
       "      <th>gendr</th>\n",
       "      <th>num_accts</th>\n",
       "      <th>bal</th>\n",
       "      <th>calls_6_mnth</th>\n",
       "      <th>logons_6_mnth</th>\n",
       "      <th>Variation_y</th>\n",
       "      <th>balance_quartile</th>\n",
       "    </tr>\n",
       "  </thead>\n",
       "  <tbody>\n",
       "    <tr>\n",
       "      <th>0</th>\n",
       "      <td>100012776_37918976071_457913</td>\n",
       "      <td>3561384</td>\n",
       "      <td>Test</td>\n",
       "      <td>False</td>\n",
       "      <td>1</td>\n",
       "      <td>0.0</td>\n",
       "      <td>1</td>\n",
       "      <td>0</td>\n",
       "      <td>0</td>\n",
       "      <td>0</td>\n",
       "      <td>...</td>\n",
       "      <td>4.0</td>\n",
       "      <td>56.0</td>\n",
       "      <td>59.5</td>\n",
       "      <td>U</td>\n",
       "      <td>2.0</td>\n",
       "      <td>63130.44</td>\n",
       "      <td>6.0</td>\n",
       "      <td>9.0</td>\n",
       "      <td>Test</td>\n",
       "      <td>Q2</td>\n",
       "    </tr>\n",
       "    <tr>\n",
       "      <th>1</th>\n",
       "      <td>100019538_17884295066_43909</td>\n",
       "      <td>7338123</td>\n",
       "      <td>Test</td>\n",
       "      <td>True</td>\n",
       "      <td>9</td>\n",
       "      <td>226.0</td>\n",
       "      <td>1</td>\n",
       "      <td>1</td>\n",
       "      <td>4</td>\n",
       "      <td>2</td>\n",
       "      <td>...</td>\n",
       "      <td>7.0</td>\n",
       "      <td>88.0</td>\n",
       "      <td>23.5</td>\n",
       "      <td>M</td>\n",
       "      <td>2.0</td>\n",
       "      <td>26436.73</td>\n",
       "      <td>6.0</td>\n",
       "      <td>9.0</td>\n",
       "      <td>Test</td>\n",
       "      <td>Q1</td>\n",
       "    </tr>\n",
       "    <tr>\n",
       "      <th>2</th>\n",
       "      <td>100022086_87870757897_149620</td>\n",
       "      <td>2478628</td>\n",
       "      <td>Test</td>\n",
       "      <td>True</td>\n",
       "      <td>5</td>\n",
       "      <td>180.0</td>\n",
       "      <td>1</td>\n",
       "      <td>1</td>\n",
       "      <td>1</td>\n",
       "      <td>1</td>\n",
       "      <td>...</td>\n",
       "      <td>16.0</td>\n",
       "      <td>198.0</td>\n",
       "      <td>47.0</td>\n",
       "      <td>F</td>\n",
       "      <td>2.0</td>\n",
       "      <td>32456.28</td>\n",
       "      <td>2.0</td>\n",
       "      <td>5.0</td>\n",
       "      <td>Test</td>\n",
       "      <td>Q1</td>\n",
       "    </tr>\n",
       "    <tr>\n",
       "      <th>3</th>\n",
       "      <td>100030127_47967100085_936361</td>\n",
       "      <td>105007</td>\n",
       "      <td>Control</td>\n",
       "      <td>False</td>\n",
       "      <td>1</td>\n",
       "      <td>0.0</td>\n",
       "      <td>0</td>\n",
       "      <td>1</td>\n",
       "      <td>0</td>\n",
       "      <td>0</td>\n",
       "      <td>...</td>\n",
       "      <td>9.0</td>\n",
       "      <td>118.0</td>\n",
       "      <td>35.0</td>\n",
       "      <td>F</td>\n",
       "      <td>2.0</td>\n",
       "      <td>34897.47</td>\n",
       "      <td>3.0</td>\n",
       "      <td>6.0</td>\n",
       "      <td>Control</td>\n",
       "      <td>Q1</td>\n",
       "    </tr>\n",
       "    <tr>\n",
       "      <th>4</th>\n",
       "      <td>100037962_47432393712_705583</td>\n",
       "      <td>5623007</td>\n",
       "      <td>Control</td>\n",
       "      <td>False</td>\n",
       "      <td>2</td>\n",
       "      <td>8.0</td>\n",
       "      <td>0</td>\n",
       "      <td>1</td>\n",
       "      <td>1</td>\n",
       "      <td>0</td>\n",
       "      <td>...</td>\n",
       "      <td>16.0</td>\n",
       "      <td>202.0</td>\n",
       "      <td>78.0</td>\n",
       "      <td>M</td>\n",
       "      <td>2.0</td>\n",
       "      <td>146827.14</td>\n",
       "      <td>5.0</td>\n",
       "      <td>8.0</td>\n",
       "      <td>Control</td>\n",
       "      <td>Q4</td>\n",
       "    </tr>\n",
       "  </tbody>\n",
       "</table>\n",
       "<p>5 rows × 21 columns</p>\n",
       "</div>"
      ],
      "text/plain": [
       "                       visit_id  client_id Variation_x  successful_visit  \\\n",
       "0  100012776_37918976071_457913    3561384        Test             False   \n",
       "1   100019538_17884295066_43909    7338123        Test              True   \n",
       "2  100022086_87870757897_149620    2478628        Test              True   \n",
       "3  100030127_47967100085_936361     105007     Control             False   \n",
       "4  100037962_47432393712_705583    5623007     Control             False   \n",
       "\n",
       "   step_count  visit_duration  confirm  start  step_1  step_2  ...  \\\n",
       "0           1             0.0        1      0       0       0  ...   \n",
       "1           9           226.0        1      1       4       2  ...   \n",
       "2           5           180.0        1      1       1       1  ...   \n",
       "3           1             0.0        0      1       0       0  ...   \n",
       "4           2             8.0        0      1       1       0  ...   \n",
       "\n",
       "   clnt_tenure_yr  clnt_tenure_mnth  clnt_age  gendr num_accts        bal  \\\n",
       "0             4.0              56.0      59.5      U       2.0   63130.44   \n",
       "1             7.0              88.0      23.5      M       2.0   26436.73   \n",
       "2            16.0             198.0      47.0      F       2.0   32456.28   \n",
       "3             9.0             118.0      35.0      F       2.0   34897.47   \n",
       "4            16.0             202.0      78.0      M       2.0  146827.14   \n",
       "\n",
       "   calls_6_mnth  logons_6_mnth  Variation_y balance_quartile  \n",
       "0           6.0            9.0         Test               Q2  \n",
       "1           6.0            9.0         Test               Q1  \n",
       "2           2.0            5.0         Test               Q1  \n",
       "3           3.0            6.0      Control               Q1  \n",
       "4           5.0            8.0      Control               Q4  \n",
       "\n",
       "[5 rows x 21 columns]"
      ]
     },
     "execution_count": 207,
     "metadata": {},
     "output_type": "execute_result"
    }
   ],
   "source": [
    "visit_client = pd.merge(visit_client, client_df, on='client_id', how='left')\n",
    "visit_client.head()"
   ]
  },
  {
   "cell_type": "code",
   "execution_count": 209,
   "id": "42072395-2d80-42a4-86b0-dea91737dd0a",
   "metadata": {},
   "outputs": [
    {
     "data": {
      "text/plain": [
       "Index(['visit_id', 'client_id', 'Variation_x', 'successful_visit',\n",
       "       'step_count', 'visit_duration', 'confirm', 'start', 'step_1', 'step_2',\n",
       "       'step_3', 'clnt_tenure_yr', 'clnt_tenure_mnth', 'clnt_age', 'gendr',\n",
       "       'num_accts', 'bal', 'calls_6_mnth', 'logons_6_mnth', 'Variation_y',\n",
       "       'balance_quartile'],\n",
       "      dtype='object')"
      ]
     },
     "execution_count": 209,
     "metadata": {},
     "output_type": "execute_result"
    }
   ],
   "source": [
    "visit_client.columns"
   ]
  },
  {
   "cell_type": "code",
   "execution_count": 211,
   "id": "11fe1914-b19f-4a70-a685-72527d9c20cb",
   "metadata": {},
   "outputs": [],
   "source": [
    "visit_client.drop(columns=['Variation_y'],axis=1,inplace=True)\n",
    "visit_client.rename(columns={'Variation_x' : 'Variation'}, inplace=True)"
   ]
  },
  {
   "cell_type": "code",
   "execution_count": 213,
   "id": "e81502dd-e7ec-4f34-a560-4587cf3f1291",
   "metadata": {},
   "outputs": [
    {
     "data": {
      "text/html": [
       "<div>\n",
       "<style scoped>\n",
       "    .dataframe tbody tr th:only-of-type {\n",
       "        vertical-align: middle;\n",
       "    }\n",
       "\n",
       "    .dataframe tbody tr th {\n",
       "        vertical-align: top;\n",
       "    }\n",
       "\n",
       "    .dataframe thead th {\n",
       "        text-align: right;\n",
       "    }\n",
       "</style>\n",
       "<table border=\"1\" class=\"dataframe\">\n",
       "  <thead>\n",
       "    <tr style=\"text-align: right;\">\n",
       "      <th></th>\n",
       "      <th>visit_id</th>\n",
       "      <th>client_id</th>\n",
       "      <th>Variation</th>\n",
       "      <th>successful_visit</th>\n",
       "      <th>step_count</th>\n",
       "      <th>visit_duration</th>\n",
       "      <th>confirm</th>\n",
       "      <th>start</th>\n",
       "      <th>step_1</th>\n",
       "      <th>step_2</th>\n",
       "      <th>step_3</th>\n",
       "      <th>clnt_tenure_yr</th>\n",
       "      <th>clnt_tenure_mnth</th>\n",
       "      <th>clnt_age</th>\n",
       "      <th>gendr</th>\n",
       "      <th>num_accts</th>\n",
       "      <th>bal</th>\n",
       "      <th>calls_6_mnth</th>\n",
       "      <th>logons_6_mnth</th>\n",
       "      <th>balance_quartile</th>\n",
       "    </tr>\n",
       "  </thead>\n",
       "  <tbody>\n",
       "    <tr>\n",
       "      <th>0</th>\n",
       "      <td>100012776_37918976071_457913</td>\n",
       "      <td>3561384</td>\n",
       "      <td>Test</td>\n",
       "      <td>False</td>\n",
       "      <td>1</td>\n",
       "      <td>0.0</td>\n",
       "      <td>1</td>\n",
       "      <td>0</td>\n",
       "      <td>0</td>\n",
       "      <td>0</td>\n",
       "      <td>0</td>\n",
       "      <td>4.0</td>\n",
       "      <td>56.0</td>\n",
       "      <td>59.5</td>\n",
       "      <td>U</td>\n",
       "      <td>2.0</td>\n",
       "      <td>63130.44</td>\n",
       "      <td>6.0</td>\n",
       "      <td>9.0</td>\n",
       "      <td>Q2</td>\n",
       "    </tr>\n",
       "    <tr>\n",
       "      <th>1</th>\n",
       "      <td>100019538_17884295066_43909</td>\n",
       "      <td>7338123</td>\n",
       "      <td>Test</td>\n",
       "      <td>True</td>\n",
       "      <td>9</td>\n",
       "      <td>226.0</td>\n",
       "      <td>1</td>\n",
       "      <td>1</td>\n",
       "      <td>4</td>\n",
       "      <td>2</td>\n",
       "      <td>1</td>\n",
       "      <td>7.0</td>\n",
       "      <td>88.0</td>\n",
       "      <td>23.5</td>\n",
       "      <td>M</td>\n",
       "      <td>2.0</td>\n",
       "      <td>26436.73</td>\n",
       "      <td>6.0</td>\n",
       "      <td>9.0</td>\n",
       "      <td>Q1</td>\n",
       "    </tr>\n",
       "    <tr>\n",
       "      <th>2</th>\n",
       "      <td>100022086_87870757897_149620</td>\n",
       "      <td>2478628</td>\n",
       "      <td>Test</td>\n",
       "      <td>True</td>\n",
       "      <td>5</td>\n",
       "      <td>180.0</td>\n",
       "      <td>1</td>\n",
       "      <td>1</td>\n",
       "      <td>1</td>\n",
       "      <td>1</td>\n",
       "      <td>1</td>\n",
       "      <td>16.0</td>\n",
       "      <td>198.0</td>\n",
       "      <td>47.0</td>\n",
       "      <td>F</td>\n",
       "      <td>2.0</td>\n",
       "      <td>32456.28</td>\n",
       "      <td>2.0</td>\n",
       "      <td>5.0</td>\n",
       "      <td>Q1</td>\n",
       "    </tr>\n",
       "    <tr>\n",
       "      <th>3</th>\n",
       "      <td>100030127_47967100085_936361</td>\n",
       "      <td>105007</td>\n",
       "      <td>Control</td>\n",
       "      <td>False</td>\n",
       "      <td>1</td>\n",
       "      <td>0.0</td>\n",
       "      <td>0</td>\n",
       "      <td>1</td>\n",
       "      <td>0</td>\n",
       "      <td>0</td>\n",
       "      <td>0</td>\n",
       "      <td>9.0</td>\n",
       "      <td>118.0</td>\n",
       "      <td>35.0</td>\n",
       "      <td>F</td>\n",
       "      <td>2.0</td>\n",
       "      <td>34897.47</td>\n",
       "      <td>3.0</td>\n",
       "      <td>6.0</td>\n",
       "      <td>Q1</td>\n",
       "    </tr>\n",
       "    <tr>\n",
       "      <th>4</th>\n",
       "      <td>100037962_47432393712_705583</td>\n",
       "      <td>5623007</td>\n",
       "      <td>Control</td>\n",
       "      <td>False</td>\n",
       "      <td>2</td>\n",
       "      <td>8.0</td>\n",
       "      <td>0</td>\n",
       "      <td>1</td>\n",
       "      <td>1</td>\n",
       "      <td>0</td>\n",
       "      <td>0</td>\n",
       "      <td>16.0</td>\n",
       "      <td>202.0</td>\n",
       "      <td>78.0</td>\n",
       "      <td>M</td>\n",
       "      <td>2.0</td>\n",
       "      <td>146827.14</td>\n",
       "      <td>5.0</td>\n",
       "      <td>8.0</td>\n",
       "      <td>Q4</td>\n",
       "    </tr>\n",
       "  </tbody>\n",
       "</table>\n",
       "</div>"
      ],
      "text/plain": [
       "                       visit_id  client_id Variation  successful_visit  \\\n",
       "0  100012776_37918976071_457913    3561384      Test             False   \n",
       "1   100019538_17884295066_43909    7338123      Test              True   \n",
       "2  100022086_87870757897_149620    2478628      Test              True   \n",
       "3  100030127_47967100085_936361     105007   Control             False   \n",
       "4  100037962_47432393712_705583    5623007   Control             False   \n",
       "\n",
       "   step_count  visit_duration  confirm  start  step_1  step_2  step_3  \\\n",
       "0           1             0.0        1      0       0       0       0   \n",
       "1           9           226.0        1      1       4       2       1   \n",
       "2           5           180.0        1      1       1       1       1   \n",
       "3           1             0.0        0      1       0       0       0   \n",
       "4           2             8.0        0      1       1       0       0   \n",
       "\n",
       "   clnt_tenure_yr  clnt_tenure_mnth  clnt_age gendr  num_accts        bal  \\\n",
       "0             4.0              56.0      59.5     U        2.0   63130.44   \n",
       "1             7.0              88.0      23.5     M        2.0   26436.73   \n",
       "2            16.0             198.0      47.0     F        2.0   32456.28   \n",
       "3             9.0             118.0      35.0     F        2.0   34897.47   \n",
       "4            16.0             202.0      78.0     M        2.0  146827.14   \n",
       "\n",
       "   calls_6_mnth  logons_6_mnth balance_quartile  \n",
       "0           6.0            9.0               Q2  \n",
       "1           6.0            9.0               Q1  \n",
       "2           2.0            5.0               Q1  \n",
       "3           3.0            6.0               Q1  \n",
       "4           5.0            8.0               Q4  "
      ]
     },
     "execution_count": 213,
     "metadata": {},
     "output_type": "execute_result"
    }
   ],
   "source": [
    "visit_client.head()"
   ]
  },
  {
   "cell_type": "code",
   "execution_count": 215,
   "id": "3fe56e00-39e2-44e3-a7be-c0dcd206c61f",
   "metadata": {},
   "outputs": [
    {
     "data": {
      "text/html": [
       "<div>\n",
       "<style scoped>\n",
       "    .dataframe tbody tr th:only-of-type {\n",
       "        vertical-align: middle;\n",
       "    }\n",
       "\n",
       "    .dataframe tbody tr th {\n",
       "        vertical-align: top;\n",
       "    }\n",
       "\n",
       "    .dataframe thead th {\n",
       "        text-align: right;\n",
       "    }\n",
       "</style>\n",
       "<table border=\"1\" class=\"dataframe\">\n",
       "  <thead>\n",
       "    <tr style=\"text-align: right;\">\n",
       "      <th>gendr</th>\n",
       "      <th>F</th>\n",
       "      <th>M</th>\n",
       "      <th>U</th>\n",
       "      <th>X</th>\n",
       "    </tr>\n",
       "    <tr>\n",
       "      <th>Variation</th>\n",
       "      <th></th>\n",
       "      <th></th>\n",
       "      <th></th>\n",
       "      <th></th>\n",
       "    </tr>\n",
       "  </thead>\n",
       "  <tbody>\n",
       "    <tr>\n",
       "      <th>Control</th>\n",
       "      <td>8387</td>\n",
       "      <td>8880</td>\n",
       "      <td>8673</td>\n",
       "      <td>0</td>\n",
       "    </tr>\n",
       "    <tr>\n",
       "      <th>Test</th>\n",
       "      <td>9066</td>\n",
       "      <td>9404</td>\n",
       "      <td>9380</td>\n",
       "      <td>1</td>\n",
       "    </tr>\n",
       "  </tbody>\n",
       "</table>\n",
       "</div>"
      ],
      "text/plain": [
       "gendr         F     M     U  X\n",
       "Variation                     \n",
       "Control    8387  8880  8673  0\n",
       "Test       9066  9404  9380  1"
      ]
     },
     "metadata": {},
     "output_type": "display_data"
    },
    {
     "name": "stdout",
     "output_type": "stream",
     "text": [
      "2.233181447740982 0.5254422662511531\n"
     ]
    }
   ],
   "source": [
    "# Is gendr similar between Test and Control\n",
    "\n",
    "crosstab_res = pd.crosstab(visit_client['Variation'], visit_client['gendr'])\n",
    "\n",
    "from scipy.stats import chi2_contingency\n",
    "\n",
    "# Chi-square test for 'MSZoning' and 'SaleCondition'\n",
    "chi2_statistic, chi2_p_value, _, _ = chi2_contingency(crosstab_res)\n",
    "\n",
    "display(crosstab_res)\n",
    "print(chi2_statistic, chi2_p_value)\n",
    "\n",
    "# Not significant association between these values"
   ]
  },
  {
   "cell_type": "code",
   "execution_count": null,
   "id": "0fe6d2a9-9acf-4c4c-acfc-8e5b6954d6b7",
   "metadata": {},
   "outputs": [],
   "source": [
    "# Is success_rate similar between Test and Control\n",
    "\n",
    "crosstab_res = pd.crosstab(visit_client['Variation'], visit_client['successful_visit'])\n",
    "\n",
    "from scipy.stats import chi2_contingency\n",
    "\n",
    "# Chi-square test for 'MSZoning' and 'SaleCondition'\n",
    "chi2_statistic, chi2_p_value, _, _ = chi2_contingency(crosstab_res)\n",
    "\n",
    "display(crosstab_res)\n",
    "print(chi2_statistic, chi2_p_value)\n",
    "\n",
    "# There is significant association between these values"
   ]
  },
  {
   "cell_type": "code",
   "execution_count": 227,
   "id": "52300ac0-b1e4-4b12-814d-d466253f95b1",
   "metadata": {},
   "outputs": [
    {
     "data": {
      "text/plain": [
       "Index(['visit_id', 'client_id', 'Variation', 'successful_visit', 'step_count',\n",
       "       'visit_duration', 'confirm', 'start', 'step_1', 'step_2', 'step_3',\n",
       "       'clnt_tenure_yr', 'clnt_tenure_mnth', 'clnt_age', 'gendr', 'num_accts',\n",
       "       'bal', 'calls_6_mnth', 'logons_6_mnth', 'balance_quartile'],\n",
       "      dtype='object')"
      ]
     },
     "execution_count": 227,
     "metadata": {},
     "output_type": "execute_result"
    }
   ],
   "source": [
    "visit_client.columns"
   ]
  },
  {
   "cell_type": "code",
   "execution_count": 231,
   "id": "9dcf1526-1f4b-4ad6-9d31-15f9a72c50d3",
   "metadata": {},
   "outputs": [
    {
     "name": "stdout",
     "output_type": "stream",
     "text": [
      "For step_count, with p-value of 0.2176, we are not able to reject the null hypothesis.\n",
      "For visit_duration, with p-value of 0.0000, we reject the null hypothesis.\n",
      "For clnt_tenure_yr, with p-value of 0.6982, we are not able to reject the null hypothesis.\n",
      "For clnt_tenure_mnth, with p-value of 0.6629, we are not able to reject the null hypothesis.\n",
      "For clnt_age, with p-value of 0.4028, we are not able to reject the null hypothesis.\n",
      "For num_accts, with p-value of 0.2760, we are not able to reject the null hypothesis.\n",
      "For bal, with p-value of 0.0014, we reject the null hypothesis.\n",
      "For calls_6_mnth, with p-value of 0.0019, we reject the null hypothesis.\n",
      "For logons_6_mnth, with p-value of 0.0031, we reject the null hypothesis.\n"
     ]
    }
   ],
   "source": [
    "# Is a metric similarly distributed between Test and Control\n",
    "#Set the hypothesis\n",
    "\n",
    "#H0: mu test == mu control\n",
    "#H1: mu test != mu control\n",
    "\n",
    "import scipy.stats as st\n",
    "\n",
    "# Define alpha (significance level)\n",
    "alpha = 0.05\n",
    "\n",
    "# Filter the data for Test and Control groups\n",
    "df_test = visit_client[visit_client['Variation'] == 'Test'][['step_count',\n",
    "       'visit_duration',\n",
    "       'clnt_tenure_yr', 'clnt_tenure_mnth', 'clnt_age', 'num_accts',\n",
    "       'bal', 'calls_6_mnth', 'logons_6_mnth']]\n",
    "\n",
    "df_control = visit_client[visit_client['Variation'] == 'Control'][['step_count',\n",
    "       'visit_duration',\n",
    "       'clnt_tenure_yr', 'clnt_tenure_mnth', 'clnt_age', 'num_accts',\n",
    "       'bal', 'calls_6_mnth', 'logons_6_mnth']]\n",
    "\n",
    "# Ensure that rows with missing data are dropped for comparison\n",
    "df_test = df_test.dropna()\n",
    "df_control = df_control.dropna()\n",
    "\n",
    "# Loop over each column to perform the t-test\n",
    "for col in df_test.columns:\n",
    "    # Perform t-test between the test and control groups\n",
    "    _, p_val = st.ttest_ind(df_test[col], df_control[col], equal_var=False, alternative='two-sided')\n",
    "\n",
    "    # Print the results\n",
    "    if p_val > alpha:\n",
    "        print(f\"For {col}, with p-value of {p_val:.4f}, we are not able to reject the null hypothesis.\")\n",
    "    else:\n",
    "        print(f\"For {col}, with p-value of {p_val:.4f}, we reject the null hypothesis.\")\n"
   ]
  },
  {
   "cell_type": "code",
   "execution_count": 253,
   "id": "150b4d57-6d5b-4ec8-8f1f-c1ec54e62afe",
   "metadata": {},
   "outputs": [
    {
     "data": {
      "image/png": "[encoded data removed]",
      "text/plain": [
       "<Figure size 640x480 with 1 Axes>"
      ]
     },
     "metadata": {},
     "output_type": "display_data"
    }
   ],
   "source": [
    "sns.kdeplot(visit_client[visit_client['Variation'] == 'Test']['clnt_age'], label='Test', fill=True)\n",
    "sns.kdeplot(visit_client[visit_client['Variation'] == 'Control']['clnt_age'], label='Control', fill=True)\n",
    "\n",
    "plt.xlabel('Age')\n",
    "plt.ylabel('Density')\n",
    "plt.title('Age Distributions')\n",
    "plt.legend()\n",
    "plt.show\n",
    "plt.savefig(\"../figures/age_dist_control_vs_test.png\", transparent=True)"
   ]
  },
  {
   "cell_type": "code",
   "execution_count": 265,
   "id": "f133d393-88c9-47b9-a8ea-298367028a77",
   "metadata": {},
   "outputs": [
    {
     "data": {
      "image/png": "[encoded data removed]",
      "text/plain": [
       "<Figure size 400x600 with 1 Axes>"
      ]
     },
     "metadata": {},
     "output_type": "display_data"
    }
   ],
   "source": [
    "plt.figure(figsize=(4, 6))\n",
    "\n",
    "sns.kdeplot(visit_client[visit_client['Variation'] == 'Test']['bal'], label='Test', fill=True)\n",
    "sns.kdeplot(visit_client[visit_client['Variation'] == 'Control']['bal'], label='Control', fill=True)\n",
    "\n",
    "plt.xlabel('Balance')\n",
    "plt.ylabel('Density')\n",
    "plt.title('Balance Distribution')\n",
    "plt.legend()\n",
    "plt.show\n",
    "plt.savefig(\"../figures/bal_dist_control_vs_test.png\", transparent=True)"
   ]
  },
  {
   "cell_type": "code",
   "execution_count": 315,
   "id": "c9d991c1-23b5-4a79-a72e-0f8c2ade5701",
   "metadata": {},
   "outputs": [
    {
     "data": {
      "image/png": "[encoded data removed]",
      "text/plain": [
       "<Figure size 400x600 with 1 Axes>"
      ]
     },
     "metadata": {},
     "output_type": "display_data"
    }
   ],
   "source": [
    "plt.figure(figsize=(4, 6))\n",
    "sns.kdeplot(visit_client[visit_client['Variation'] == 'Test']['clnt_tenure_mnth'], label='Test', fill=True)\n",
    "sns.kdeplot(visit_client[visit_client['Variation'] == 'Control']['clnt_tenure_mnth'], label='Control', fill=True)\n",
    "\n",
    "plt.xlabel('Client Tenure (months)')\n",
    "plt.ylabel('Density')\n",
    "plt.title('Client Tenure Distributions')\n",
    "plt.legend()\n",
    "plt.show\n",
    "plt.savefig(\"../figures/clnt_tenure_dist_control_vs_test.png\", transparent=True)"
   ]
  },
  {
   "cell_type": "code",
   "execution_count": 323,
   "id": "33c99ea8-ad4e-44f9-9354-79b9d2bc8fab",
   "metadata": {},
   "outputs": [
    {
     "data": {
      "image/png": "[encoded data removed]",
      "text/plain": [
       "<Figure size 800x600 with 1 Axes>"
      ]
     },
     "metadata": {},
     "output_type": "display_data"
    }
   ],
   "source": [
    "import seaborn as sns\n",
    "import matplotlib.pyplot as plt\n",
    "\n",
    "def remove_outliers(df, col):\n",
    "    ''' Removes outliers in a dataframe column.\n",
    "    Outliers are defined as being 1.5 * IQR below Q1 or above Q3.'''\n",
    "    Q1 = df[col].quantile(0.25)\n",
    "    Q3 = df[col].quantile(0.75)\n",
    "    IQR = Q3 - Q1\n",
    "    lower_bound = Q1 - 1.5 * IQR\n",
    "    upper_bound = Q3 + 1.5 * IQR\n",
    "\n",
    "    # Filter out rows where the column value is an outlier\n",
    "    filt_df = df[(df[col] >= lower_bound) & (df[col] <= upper_bound)]\n",
    "    \n",
    "    return filt_df\n",
    "\n",
    "# Remove outliers from the 'bal' column (no grouping by Variation)\n",
    "bal_filt_df = remove_outliers(visit_client, 'bal')\n",
    "\n",
    "# Create a narrower figure\n",
    "plt.figure(figsize=(8, 6))\n",
    "\n",
    "# Plot KDEs for 'Test' and 'Control' groups from the filtered data\n",
    "sns.kdeplot(bal_filt_df[bal_filt_df['Variation'] == 'Test']['bal'], label='Test', fill=True)\n",
    "sns.kdeplot(bal_filt_df[bal_filt_df['Variation'] == 'Control']['bal'], label='Control', fill=True)\n",
    "\n",
    "# Add labels, title, and legend\n",
    "plt.xlabel('Balance')\n",
    "plt.ylabel('Density')\n",
    "plt.title('Balance Distributions (Outliers Removed)')\n",
    "plt.legend()\n",
    "\n",
    "# Save and display the plot\n",
    "plt.savefig(\"../figures/bal_dist_control_vs_test_filtered.png\", transparent=True)\n",
    "plt.show()\n"
   ]
  },
  {
   "cell_type": "code",
   "execution_count": 325,
   "id": "657f4b4f-4b06-4edc-8b64-27f39e004487",
   "metadata": {},
   "outputs": [
    {
     "name": "stdout",
     "output_type": "stream",
     "text": [
      "Standard deviation of Test group: 67265.76260287661\n",
      "Standard deviation of Control group: 66397.90330849955\n",
      "NaN values in Test group: 0\n",
      "NaN values in Control group: 0\n",
      "For bal, with p-value of 0.1761, we are not able to reject the null hypothesis.\n"
     ]
    }
   ],
   "source": [
    "# Is similar between Test and Control\n",
    "\n",
    "#H0: mu test == mu control\n",
    "#H1: mu test != mu control\n",
    "\n",
    "\n",
    "import scipy.stats as st\n",
    "\n",
    "# Define alpha for significance level\n",
    "alpha = 0.05\n",
    "\n",
    "col = 'bal'\n",
    "df = bal_filt_df.copy()\n",
    "\n",
    "test_group = df[df['Variation'] == 'Test'][col]\n",
    "control_group = df[df['Variation'] == 'Control'][col]\n",
    "\n",
    "test_group = test_group.dropna()\n",
    "control_group = control_group.dropna()\n",
    "\n",
    "print(\"Standard deviation of Test group:\", test_group.std())\n",
    "print(\"Standard deviation of Control group:\", control_group.std())\n",
    "\n",
    "print(\"NaN values in Test group:\", test_group.isna().sum())\n",
    "print(\"NaN values in Control group:\", control_group.isna().sum())\n",
    "\n",
    "# Perform t-test (equal_var=False for Welch’s t-test)\n",
    "_, p_val = st.ttest_ind(test_group, control_group, equal_var=False, alternative='two-sided')\n",
    "\n",
    "\n",
    "if p_val > alpha:\n",
    "    print(f\"For {col}, with p-value of {p_val:.4f}, we are not able to reject the null hypothesis.\")\n",
    "else:\n",
    "    print(f\"For {col}, with p-value of {p_val:.4f}, we reject the null hypothesis.\")"
   ]
  },
  {
   "cell_type": "code",
   "execution_count": 319,
   "id": "0693517a-1594-4308-80a6-e46281f89f3e",
   "metadata": {},
   "outputs": [
    {
     "data": {
      "text/plain": [
       "85856.97735401939"
      ]
     },
     "execution_count": 319,
     "metadata": {},
     "output_type": "execute_result"
    }
   ],
   "source": [
    "df[df['Variation']=='Control'][col].mean()"
   ]
  },
  {
   "cell_type": "code",
   "execution_count": null,
   "id": "7315043b-933c-4579-9256-bd1d1ea7a87b",
   "metadata": {},
   "outputs": [],
   "source": []
  }
 ],
 "metadata": {
  "kernelspec": {
   "display_name": "Python 3 (ipykernel)",
   "language": "python",
   "name": "python3"
  },
  "language_info": {
   "codemirror_mode": {
    "name": "ipython",
    "version": 3
   },
   "file_extension": ".py",
   "mimetype": "text/x-python",
   "name": "python",
   "nbconvert_exporter": "python",
   "pygments_lexer": "ipython3",
   "version": "3.12.4"
  }
 },
 "nbformat": 4,
 "nbformat_minor": 5
}
